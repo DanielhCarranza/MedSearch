{
 "cells": [
  {
   "cell_type": "markdown",
   "metadata": {},
   "source": [
    "# Look at Semantic Scholar Courpus Data"
   ]
  },
  {
   "cell_type": "code",
   "execution_count": 14,
   "metadata": {
    "tags": []
   },
   "outputs": [
    {
     "output_type": "stream",
     "name": "stdout",
     "text": "The autoreload extension is already loaded. To reload it, use:\n  %reload_ext autoreload\n"
    }
   ],
   "source": [
    "%load_ext autoreload\n",
    "%autoreload 2\n",
    "\n",
    "%matplotlib inline\n",
    "import matplotlib.pyplot as plt\n",
    "import numpy as np\n",
    "from pathlib import Path\n",
    "\n",
    "from importlib.util import find_spec\n",
    "if find_spec(\"similarity_abstract_search\") is None:\n",
    "    import sys\n",
    "    sys.path.append('..')\n",
    "    \n",
    "from similarity_abstract_search.datasets.datacleaning import TextDataCleaning \n",
    "from similarity_abstract_search import utils"
   ]
  },
  {
   "cell_type": "code",
   "execution_count": 15,
   "metadata": {},
   "outputs": [],
   "source": [
    "Path.ls = lambda x: list(x.iterdir())"
   ]
  },
  {
   "cell_type": "code",
   "execution_count": 16,
   "metadata": {
    "tags": []
   },
   "outputs": [
    {
     "output_type": "execute_result",
     "data": {
      "text/plain": "[PosixPath('../../Data/processed/paper_set.txt'),\n PosixPath('../../Data/processed/SemanticScholarData'),\n PosixPath('../../Data/processed/manifest.txt'),\n PosixPath('../../Data/processed/corpus.json')]"
     },
     "metadata": {},
     "execution_count": 16
    }
   ],
   "source": [
    "data_dir =  Path('../../Data/processed/')\n",
    "data_dir.ls()\n"
   ]
  },
  {
   "cell_type": "code",
   "execution_count": 17,
   "metadata": {
    "tags": []
   },
   "outputs": [
    {
     "output_type": "stream",
     "name": "stdout",
     "text": "../../Data/processed/SemanticScholarData/s2-corpus-058.json\n"
    },
    {
     "output_type": "execute_result",
     "data": {
      "text/plain": "[PosixPath('../../Data/processed/SemanticScholarData/s2-corpus-058.json'),\n PosixPath('../../Data/processed/SemanticScholarData/s2-corpus-067.json'),\n PosixPath('../../Data/processed/SemanticScholarData/s2-corpus-068.json')]"
     },
     "metadata": {},
     "execution_count": 17
    }
   ],
   "source": [
    "data_fn = (data_dir/'SemanticScholarData').ls()\n",
    "fn = data_fn[0]\n",
    "print(fn)\n",
    "data_fn[:3]"
   ]
  },
  {
   "cell_type": "code",
   "execution_count": 11,
   "metadata": {},
   "outputs": [
    {
     "output_type": "execute_result",
     "data": {
      "text/plain": "PosixPath('/home/ubuntu/AbstractNet/Data')"
     },
     "metadata": {},
     "execution_count": 11
    }
   ],
   "source": [
    "bar = Path('/home/ubuntu/AbstractNet/TF_SimilarityAbstractSearch/similarity_abstract_search/datasets/datacleaning.py')\n",
    "bar.resolve().parents[3]/'Data'"
   ]
  },
  {
   "cell_type": "code",
   "execution_count": 12,
   "metadata": {},
   "outputs": [],
   "source": [
    "df =utils.get_raw_json_data(fn)"
   ]
  },
  {
   "cell_type": "code",
   "execution_count": 13,
   "metadata": {},
   "outputs": [
    {
     "output_type": "execute_result",
     "data": {
      "text/plain": "                                         id  \\\n0  742974499051673f32c20825a55fdb9c78952bf4   \n1  df366bfedb4dde13f4cf25220d353343e0f6cb93   \n2  4449b606c9f8df8ff5bbb035dad438d63eb493a7   \n3  d6fcd5902879f79b54042567a86f1e228edb748c   \n4  14dc13730775e2743d0be28dc109b42f6df5c0d0   \n\n                                       paperAbstract  \\\n0  Abnormally elevated formation and activation o...   \n1  To understand drug combination effect, it is n...   \n2  Effects of 3, 25, 100, 200 and 800 microM Mn o...   \n3  We investigated the tissue concentration of si...   \n4  In order to recover without any apparent damag...   \n\n                                               title  \\\n0  Inhibitory Effects of KP-A159, a Thiazolopyrid...   \n1  Elucidating synergistic dependencies in lung a...   \n2  Influence of a high Mn supply on Norway spruce...   \n3  Tissue sialic acid and fibronectin levels in h...   \n4  DNA damage in storage cells of anhydrobiotic t...   \n\n                                         journalName  \\\n0                                                      \n1                                           PLoS ONE   \n2                                    Tree physiology   \n3                                     Cancer letters   \n4  Comparative biochemistry and physiology. Part ...   \n\n                                               venue  \\\n0                                           PloS one   \n1                                           PloS one   \n2                                    Tree physiology   \n3                                     Cancer letters   \n4  Comparative biochemistry and physiology. Part ...   \n\n                                       totalCitation  \n0  [8ea62a4270f632c14c38f35c2cef214f9ec51f6d, 0b5...  \n1  [069dbe4aeeef2e628536c0c009c01a08bd25387b, e81...  \n2  [e1e7a4954de96cb6e2d7a984261bb28a8a2371d8, 016...  \n3  [35b17bd3457c1eb312877ad0ed3a5dfe767e0e1e, fc2...  \n4  [9478094aaa869a892c1a6a1963758ac6472d9d4f, a28...  ",
      "text/html": "<div>\n<style scoped>\n    .dataframe tbody tr th:only-of-type {\n        vertical-align: middle;\n    }\n\n    .dataframe tbody tr th {\n        vertical-align: top;\n    }\n\n    .dataframe thead th {\n        text-align: right;\n    }\n</style>\n<table border=\"1\" class=\"dataframe\">\n  <thead>\n    <tr style=\"text-align: right;\">\n      <th></th>\n      <th>id</th>\n      <th>paperAbstract</th>\n      <th>title</th>\n      <th>journalName</th>\n      <th>venue</th>\n      <th>totalCitation</th>\n    </tr>\n  </thead>\n  <tbody>\n    <tr>\n      <th>0</th>\n      <td>742974499051673f32c20825a55fdb9c78952bf4</td>\n      <td>Abnormally elevated formation and activation o...</td>\n      <td>Inhibitory Effects of KP-A159, a Thiazolopyrid...</td>\n      <td></td>\n      <td>PloS one</td>\n      <td>[8ea62a4270f632c14c38f35c2cef214f9ec51f6d, 0b5...</td>\n    </tr>\n    <tr>\n      <th>1</th>\n      <td>df366bfedb4dde13f4cf25220d353343e0f6cb93</td>\n      <td>To understand drug combination effect, it is n...</td>\n      <td>Elucidating synergistic dependencies in lung a...</td>\n      <td>PLoS ONE</td>\n      <td>PloS one</td>\n      <td>[069dbe4aeeef2e628536c0c009c01a08bd25387b, e81...</td>\n    </tr>\n    <tr>\n      <th>2</th>\n      <td>4449b606c9f8df8ff5bbb035dad438d63eb493a7</td>\n      <td>Effects of 3, 25, 100, 200 and 800 microM Mn o...</td>\n      <td>Influence of a high Mn supply on Norway spruce...</td>\n      <td>Tree physiology</td>\n      <td>Tree physiology</td>\n      <td>[e1e7a4954de96cb6e2d7a984261bb28a8a2371d8, 016...</td>\n    </tr>\n    <tr>\n      <th>3</th>\n      <td>d6fcd5902879f79b54042567a86f1e228edb748c</td>\n      <td>We investigated the tissue concentration of si...</td>\n      <td>Tissue sialic acid and fibronectin levels in h...</td>\n      <td>Cancer letters</td>\n      <td>Cancer letters</td>\n      <td>[35b17bd3457c1eb312877ad0ed3a5dfe767e0e1e, fc2...</td>\n    </tr>\n    <tr>\n      <th>4</th>\n      <td>14dc13730775e2743d0be28dc109b42f6df5c0d0</td>\n      <td>In order to recover without any apparent damag...</td>\n      <td>DNA damage in storage cells of anhydrobiotic t...</td>\n      <td>Comparative biochemistry and physiology. Part ...</td>\n      <td>Comparative biochemistry and physiology. Part ...</td>\n      <td>[9478094aaa869a892c1a6a1963758ac6472d9d4f, a28...</td>\n    </tr>\n  </tbody>\n</table>\n</div>"
     },
     "metadata": {},
     "execution_count": 13
    }
   ],
   "source": [
    "df.head()"
   ]
  },
  {
   "cell_type": "code",
   "execution_count": null,
   "metadata": {},
   "outputs": [],
   "source": []
  },
  {
   "cell_type": "code",
   "execution_count": null,
   "metadata": {},
   "outputs": [],
   "source": []
  },
  {
   "cell_type": "code",
   "execution_count": null,
   "metadata": {},
   "outputs": [],
   "source": []
  },
  {
   "cell_type": "code",
   "execution_count": null,
   "metadata": {},
   "outputs": [],
   "source": []
  },
  {
   "cell_type": "code",
   "execution_count": null,
   "metadata": {},
   "outputs": [],
   "source": []
  },
  {
   "cell_type": "code",
   "execution_count": null,
   "metadata": {},
   "outputs": [],
   "source": []
  },
  {
   "cell_type": "code",
   "execution_count": null,
   "metadata": {},
   "outputs": [],
   "source": []
  },
  {
   "cell_type": "code",
   "execution_count": null,
   "metadata": {},
   "outputs": [],
   "source": []
  },
  {
   "cell_type": "code",
   "execution_count": null,
   "metadata": {},
   "outputs": [],
   "source": []
  }
 ],
 "metadata": {
  "language_info": {
   "codemirror_mode": {
    "name": "ipython",
    "version": 3
   },
   "file_extension": ".py",
   "mimetype": "text/x-python",
   "name": "python",
   "nbconvert_exporter": "python",
   "pygments_lexer": "ipython3",
   "version": 3
  },
  "orig_nbformat": 2,
  "kernelspec": {
   "name": "python_defaultSpec_1594659835493",
   "display_name": "Python 3.7.7 64-bit ('base': conda)"
  }
 },
 "nbformat": 4,
 "nbformat_minor": 2
}