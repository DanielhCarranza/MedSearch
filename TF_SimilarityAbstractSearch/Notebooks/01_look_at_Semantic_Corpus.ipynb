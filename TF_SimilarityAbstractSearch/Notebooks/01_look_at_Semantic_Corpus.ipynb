{
 "cells": [
  {
   "cell_type": "markdown",
   "metadata": {},
   "source": [
    "# Look at Semantic Scholar Courpus Data"
   ]
  },
  {
   "cell_type": "code",
   "execution_count": 8,
   "metadata": {
    "tags": []
   },
   "outputs": [
    {
     "output_type": "stream",
     "name": "stdout",
     "text": "The autoreload extension is already loaded. To reload it, use:\n  %reload_ext autoreload\n"
    }
   ],
   "source": [
    "%load_ext autoreload\n",
    "%autoreload 2\n",
    "\n",
    "%matplotlib inline\n",
    "import matplotlib.pyplot as plt\n",
    "import numpy as np\n",
    "import pandas as pd\n",
    "from pathlib import Path\n",
    "\n",
    "from importlib.util import find_spec\n",
    "if find_spec(\"similarity_abstract_search\") is None:\n",
    "    import sys\n",
    "    sys.path.append('..')\n",
    "    \n",
    "from similarity_abstract_search.datasets.datacleaning import TextDataCleaning \n",
    "from similarity_abstract_search import utils"
   ]
  },
  {
   "cell_type": "code",
   "execution_count": 9,
   "metadata": {},
   "outputs": [],
   "source": [
    "Path.ls = lambda x: list(x.iterdir())"
   ]
  },
  {
   "cell_type": "code",
   "execution_count": 10,
   "metadata": {
    "tags": []
   },
   "outputs": [
    {
     "output_type": "execute_result",
     "data": {
      "text/plain": "[PosixPath('../../Data/processed/paperID2emb.json'),\n PosixPath('../../Data/processed/paper_set.txt'),\n PosixPath('../../Data/processed/SemanticScholarData'),\n PosixPath('../../Data/processed/manifest.txt')]"
     },
     "metadata": {},
     "execution_count": 10
    }
   ],
   "source": [
    "data_dir =  Path('../../Data/processed/')\n",
    "data_dir.ls()\n"
   ]
  },
  {
   "cell_type": "code",
   "execution_count": 11,
   "metadata": {
    "tags": []
   },
   "outputs": [
    {
     "output_type": "stream",
     "name": "stdout",
     "text": "../../Data/processed/SemanticScholarData/pruned168.json.gzip\n"
    },
    {
     "output_type": "execute_result",
     "data": {
      "text/plain": "[PosixPath('../../Data/processed/SemanticScholarData/pruned168.json.gzip'),\n PosixPath('../../Data/processed/SemanticScholarData/pruned076.json.gzip'),\n PosixPath('../../Data/processed/SemanticScholarData/pruned116.json.gzip')]"
     },
     "metadata": {},
     "execution_count": 11
    }
   ],
   "source": [
    "data_fn = (data_dir/'SemanticScholarData').ls()\n",
    "fn = data_fn[0]\n",
    "print(fn)\n",
    "data_fn[:3]"
   ]
  },
  {
   "cell_type": "code",
   "execution_count": 12,
   "metadata": {},
   "outputs": [
    {
     "output_type": "execute_result",
     "data": {
      "text/plain": "PosixPath('/home/ubuntu/AbstractNet/Data')"
     },
     "metadata": {},
     "execution_count": 12
    }
   ],
   "source": [
    "bar = Path('/home/ubuntu/AbstractNet/TF_SimilarityAbstractSearch/similarity_abstract_search/datasets/datacleaning.py')\n",
    "bar.resolve().parents[3]/'Data'"
   ]
  },
  {
   "cell_type": "code",
   "execution_count": 13,
   "metadata": {
    "tags": []
   },
   "outputs": [
    {
     "output_type": "stream",
     "name": "stdout",
     "text": "CPU times: user 1.79 s, sys: 0 ns, total: 1.79 s\nWall time: 1.79 s\n"
    }
   ],
   "source": [
    "%%time\n",
    "data_cleaning = TextDataCleaning(data_dir, data_fn)\n"
   ]
  },
  {
   "cell_type": "code",
   "execution_count": 7,
   "metadata": {},
   "outputs": [
    {
     "output_type": "execute_result",
     "data": {
      "text/plain": "                                         id  \\\n0  742974499051673f32c20825a55fdb9c78952bf4   \n1  df366bfedb4dde13f4cf25220d353343e0f6cb93   \n2  4449b606c9f8df8ff5bbb035dad438d63eb493a7   \n3  d6fcd5902879f79b54042567a86f1e228edb748c   \n4  14dc13730775e2743d0be28dc109b42f6df5c0d0   \n\n                                       paperAbstract  \\\n0  Abnormally elevated formation and activation o...   \n1  To understand drug combination effect, it is n...   \n2  Effects of 3, 25, 100, 200 and 800 microM Mn o...   \n3  We investigated the tissue concentration of si...   \n4  In order to recover without any apparent damag...   \n\n                                               title  \\\n0  Inhibitory Effects of KP-A159, a Thiazolopyrid...   \n1  Elucidating synergistic dependencies in lung a...   \n2  Influence of a high Mn supply on Norway spruce...   \n3  Tissue sialic acid and fibronectin levels in h...   \n4  DNA damage in storage cells of anhydrobiotic t...   \n\n                                         journalName  \\\n0                                                      \n1                                           PLoS ONE   \n2                                    Tree physiology   \n3                                     Cancer letters   \n4  Comparative biochemistry and physiology. Part ...   \n\n                                               venue  \\\n0                                           PloS one   \n1                                           PloS one   \n2                                    Tree physiology   \n3                                     Cancer letters   \n4  Comparative biochemistry and physiology. Part ...   \n\n                                       totalCitation  \n0  [8ea62a4270f632c14c38f35c2cef214f9ec51f6d, 0b5...  \n1  [069dbe4aeeef2e628536c0c009c01a08bd25387b, e81...  \n2  [e1e7a4954de96cb6e2d7a984261bb28a8a2371d8, 016...  \n3  [35b17bd3457c1eb312877ad0ed3a5dfe767e0e1e, fc2...  \n4  [9478094aaa869a892c1a6a1963758ac6472d9d4f, a28...  ",
      "text/html": "<div>\n<style scoped>\n    .dataframe tbody tr th:only-of-type {\n        vertical-align: middle;\n    }\n\n    .dataframe tbody tr th {\n        vertical-align: top;\n    }\n\n    .dataframe thead th {\n        text-align: right;\n    }\n</style>\n<table border=\"1\" class=\"dataframe\">\n  <thead>\n    <tr style=\"text-align: right;\">\n      <th></th>\n      <th>id</th>\n      <th>paperAbstract</th>\n      <th>title</th>\n      <th>journalName</th>\n      <th>venue</th>\n      <th>totalCitation</th>\n    </tr>\n  </thead>\n  <tbody>\n    <tr>\n      <th>0</th>\n      <td>742974499051673f32c20825a55fdb9c78952bf4</td>\n      <td>Abnormally elevated formation and activation o...</td>\n      <td>Inhibitory Effects of KP-A159, a Thiazolopyrid...</td>\n      <td></td>\n      <td>PloS one</td>\n      <td>[8ea62a4270f632c14c38f35c2cef214f9ec51f6d, 0b5...</td>\n    </tr>\n    <tr>\n      <th>1</th>\n      <td>df366bfedb4dde13f4cf25220d353343e0f6cb93</td>\n      <td>To understand drug combination effect, it is n...</td>\n      <td>Elucidating synergistic dependencies in lung a...</td>\n      <td>PLoS ONE</td>\n      <td>PloS one</td>\n      <td>[069dbe4aeeef2e628536c0c009c01a08bd25387b, e81...</td>\n    </tr>\n    <tr>\n      <th>2</th>\n      <td>4449b606c9f8df8ff5bbb035dad438d63eb493a7</td>\n      <td>Effects of 3, 25, 100, 200 and 800 microM Mn o...</td>\n      <td>Influence of a high Mn supply on Norway spruce...</td>\n      <td>Tree physiology</td>\n      <td>Tree physiology</td>\n      <td>[e1e7a4954de96cb6e2d7a984261bb28a8a2371d8, 016...</td>\n    </tr>\n    <tr>\n      <th>3</th>\n      <td>d6fcd5902879f79b54042567a86f1e228edb748c</td>\n      <td>We investigated the tissue concentration of si...</td>\n      <td>Tissue sialic acid and fibronectin levels in h...</td>\n      <td>Cancer letters</td>\n      <td>Cancer letters</td>\n      <td>[35b17bd3457c1eb312877ad0ed3a5dfe767e0e1e, fc2...</td>\n    </tr>\n    <tr>\n      <th>4</th>\n      <td>14dc13730775e2743d0be28dc109b42f6df5c0d0</td>\n      <td>In order to recover without any apparent damag...</td>\n      <td>DNA damage in storage cells of anhydrobiotic t...</td>\n      <td>Comparative biochemistry and physiology. Part ...</td>\n      <td>Comparative biochemistry and physiology. Part ...</td>\n      <td>[9478094aaa869a892c1a6a1963758ac6472d9d4f, a28...</td>\n    </tr>\n  </tbody>\n</table>\n</div>"
     },
     "metadata": {},
     "execution_count": 7
    }
   ],
   "source": [
    "df =utils.get_raw_json_data(fn)\n",
    "df.head()"
   ]
  },
  {
   "cell_type": "code",
   "execution_count": 9,
   "metadata": {
    "tags": []
   },
   "outputs": [
    {
     "output_type": "stream",
     "name": "stdout",
     "text": "../../Data/processed/SemanticScholarData/s2-corpus-006.json\n../../Data/processed/SemanticScholarData/s2-corpus-182.json\nCPU times: user 7min 29s, sys: 3min 25s, total: 10min 55s\nWall time: 3min 36s\n"
    }
   ],
   "source": [
    "%%time\n",
    "data_cleaning.pruning_and_cleaning(data_dir)"
   ]
  },
  {
   "cell_type": "code",
   "execution_count": 10,
   "metadata": {},
   "outputs": [
    {
     "output_type": "execute_result",
     "data": {
      "text/plain": "[PosixPath('../../Data/processed/pruned006.json.gzip'),\n PosixPath('../../Data/processed/paper_set.txt'),\n PosixPath('../../Data/processed/SemanticScholarData'),\n PosixPath('../../Data/processed/manifest.txt'),\n PosixPath('../../Data/processed/pruned182.json.gzip')]"
     },
     "metadata": {},
     "execution_count": 10
    }
   ],
   "source": [
    "data_dir.ls()"
   ]
  },
  {
   "cell_type": "code",
   "execution_count": 25,
   "metadata": {},
   "outputs": [
    {
     "output_type": "execute_result",
     "data": {
      "text/plain": "[]"
     },
     "metadata": {},
     "execution_count": 25
    }
   ],
   "source": [
    "pfiles = [pf for pf in data_dir.ls() if 'pruned' in str(pf) ]\n",
    "pfiles"
   ]
  },
  {
   "cell_type": "code",
   "execution_count": 24,
   "metadata": {
    "tags": []
   },
   "outputs": [
    {
     "output_type": "error",
     "ename": "FileNotFoundError",
     "evalue": "[Errno 2] No such file or directory: '../../Data/processed/../../Data/processed/pruned006.json.gzip'",
     "traceback": [
      "\u001b[0;31m---------------------------------------------------------------------------\u001b[0m",
      "\u001b[0;31mFileNotFoundError\u001b[0m                         Traceback (most recent call last)",
      "\u001b[0;32m<timed exec>\u001b[0m in \u001b[0;36m<module>\u001b[0;34m\u001b[0m\n",
      "\u001b[0;32m~/anaconda3/lib/python3.7/site-packages/pandas/core/reshape/concat.py\u001b[0m in \u001b[0;36mconcat\u001b[0;34m(objs, axis, join, ignore_index, keys, levels, names, verify_integrity, sort, copy)\u001b[0m\n\u001b[1;32m    279\u001b[0m         \u001b[0mverify_integrity\u001b[0m\u001b[0;34m=\u001b[0m\u001b[0mverify_integrity\u001b[0m\u001b[0;34m,\u001b[0m\u001b[0;34m\u001b[0m\u001b[0;34m\u001b[0m\u001b[0m\n\u001b[1;32m    280\u001b[0m         \u001b[0mcopy\u001b[0m\u001b[0;34m=\u001b[0m\u001b[0mcopy\u001b[0m\u001b[0;34m,\u001b[0m\u001b[0;34m\u001b[0m\u001b[0;34m\u001b[0m\u001b[0m\n\u001b[0;32m--> 281\u001b[0;31m         \u001b[0msort\u001b[0m\u001b[0;34m=\u001b[0m\u001b[0msort\u001b[0m\u001b[0;34m,\u001b[0m\u001b[0;34m\u001b[0m\u001b[0;34m\u001b[0m\u001b[0m\n\u001b[0m\u001b[1;32m    282\u001b[0m     )\n\u001b[1;32m    283\u001b[0m \u001b[0;34m\u001b[0m\u001b[0m\n",
      "\u001b[0;32m~/anaconda3/lib/python3.7/site-packages/pandas/core/reshape/concat.py\u001b[0m in \u001b[0;36m__init__\u001b[0;34m(self, objs, axis, join, keys, levels, names, ignore_index, verify_integrity, copy, sort)\u001b[0m\n\u001b[1;32m    324\u001b[0m             \u001b[0mobjs\u001b[0m \u001b[0;34m=\u001b[0m \u001b[0;34m[\u001b[0m\u001b[0mobjs\u001b[0m\u001b[0;34m[\u001b[0m\u001b[0mk\u001b[0m\u001b[0;34m]\u001b[0m \u001b[0;32mfor\u001b[0m \u001b[0mk\u001b[0m \u001b[0;32min\u001b[0m \u001b[0mkeys\u001b[0m\u001b[0;34m]\u001b[0m\u001b[0;34m\u001b[0m\u001b[0;34m\u001b[0m\u001b[0m\n\u001b[1;32m    325\u001b[0m         \u001b[0;32melse\u001b[0m\u001b[0;34m:\u001b[0m\u001b[0;34m\u001b[0m\u001b[0;34m\u001b[0m\u001b[0m\n\u001b[0;32m--> 326\u001b[0;31m             \u001b[0mobjs\u001b[0m \u001b[0;34m=\u001b[0m \u001b[0mlist\u001b[0m\u001b[0;34m(\u001b[0m\u001b[0mobjs\u001b[0m\u001b[0;34m)\u001b[0m\u001b[0;34m\u001b[0m\u001b[0;34m\u001b[0m\u001b[0m\n\u001b[0m\u001b[1;32m    327\u001b[0m \u001b[0;34m\u001b[0m\u001b[0m\n\u001b[1;32m    328\u001b[0m         \u001b[0;32mif\u001b[0m \u001b[0mlen\u001b[0m\u001b[0;34m(\u001b[0m\u001b[0mobjs\u001b[0m\u001b[0;34m)\u001b[0m \u001b[0;34m==\u001b[0m \u001b[0;36m0\u001b[0m\u001b[0;34m:\u001b[0m\u001b[0;34m\u001b[0m\u001b[0;34m\u001b[0m\u001b[0m\n",
      "\u001b[0;32m<timed exec>\u001b[0m in \u001b[0;36m<genexpr>\u001b[0;34m(.0)\u001b[0m\n",
      "\u001b[0;32m~/anaconda3/lib/python3.7/site-packages/pandas/util/_decorators.py\u001b[0m in \u001b[0;36mwrapper\u001b[0;34m(*args, **kwargs)\u001b[0m\n\u001b[1;32m    212\u001b[0m                 \u001b[0;32melse\u001b[0m\u001b[0;34m:\u001b[0m\u001b[0;34m\u001b[0m\u001b[0;34m\u001b[0m\u001b[0m\n\u001b[1;32m    213\u001b[0m                     \u001b[0mkwargs\u001b[0m\u001b[0;34m[\u001b[0m\u001b[0mnew_arg_name\u001b[0m\u001b[0;34m]\u001b[0m \u001b[0;34m=\u001b[0m \u001b[0mnew_arg_value\u001b[0m\u001b[0;34m\u001b[0m\u001b[0;34m\u001b[0m\u001b[0m\n\u001b[0;32m--> 214\u001b[0;31m             \u001b[0;32mreturn\u001b[0m \u001b[0mfunc\u001b[0m\u001b[0;34m(\u001b[0m\u001b[0;34m*\u001b[0m\u001b[0margs\u001b[0m\u001b[0;34m,\u001b[0m \u001b[0;34m**\u001b[0m\u001b[0mkwargs\u001b[0m\u001b[0;34m)\u001b[0m\u001b[0;34m\u001b[0m\u001b[0;34m\u001b[0m\u001b[0m\n\u001b[0m\u001b[1;32m    215\u001b[0m \u001b[0;34m\u001b[0m\u001b[0m\n\u001b[1;32m    216\u001b[0m         \u001b[0;32mreturn\u001b[0m \u001b[0mcast\u001b[0m\u001b[0;34m(\u001b[0m\u001b[0mF\u001b[0m\u001b[0;34m,\u001b[0m \u001b[0mwrapper\u001b[0m\u001b[0;34m)\u001b[0m\u001b[0;34m\u001b[0m\u001b[0;34m\u001b[0m\u001b[0m\n",
      "\u001b[0;32m~/anaconda3/lib/python3.7/site-packages/pandas/io/json/_json.py\u001b[0m in \u001b[0;36mread_json\u001b[0;34m(path_or_buf, orient, typ, dtype, convert_axes, convert_dates, keep_default_dates, numpy, precise_float, date_unit, encoding, lines, chunksize, compression)\u001b[0m\n\u001b[1;32m    600\u001b[0m         \u001b[0mlines\u001b[0m\u001b[0;34m=\u001b[0m\u001b[0mlines\u001b[0m\u001b[0;34m,\u001b[0m\u001b[0;34m\u001b[0m\u001b[0;34m\u001b[0m\u001b[0m\n\u001b[1;32m    601\u001b[0m         \u001b[0mchunksize\u001b[0m\u001b[0;34m=\u001b[0m\u001b[0mchunksize\u001b[0m\u001b[0;34m,\u001b[0m\u001b[0;34m\u001b[0m\u001b[0;34m\u001b[0m\u001b[0m\n\u001b[0;32m--> 602\u001b[0;31m         \u001b[0mcompression\u001b[0m\u001b[0;34m=\u001b[0m\u001b[0mcompression\u001b[0m\u001b[0;34m,\u001b[0m\u001b[0;34m\u001b[0m\u001b[0;34m\u001b[0m\u001b[0m\n\u001b[0m\u001b[1;32m    603\u001b[0m     )\n\u001b[1;32m    604\u001b[0m \u001b[0;34m\u001b[0m\u001b[0m\n",
      "\u001b[0;32m~/anaconda3/lib/python3.7/site-packages/pandas/io/json/_json.py\u001b[0m in \u001b[0;36m__init__\u001b[0;34m(self, filepath_or_buffer, orient, typ, dtype, convert_axes, convert_dates, keep_default_dates, numpy, precise_float, date_unit, encoding, lines, chunksize, compression)\u001b[0m\n\u001b[1;32m    662\u001b[0m                 \u001b[0;32mraise\u001b[0m \u001b[0mValueError\u001b[0m\u001b[0;34m(\u001b[0m\u001b[0;34m\"chunksize can only be passed if lines=True\"\u001b[0m\u001b[0;34m)\u001b[0m\u001b[0;34m\u001b[0m\u001b[0;34m\u001b[0m\u001b[0m\n\u001b[1;32m    663\u001b[0m \u001b[0;34m\u001b[0m\u001b[0m\n\u001b[0;32m--> 664\u001b[0;31m         \u001b[0mdata\u001b[0m \u001b[0;34m=\u001b[0m \u001b[0mself\u001b[0m\u001b[0;34m.\u001b[0m\u001b[0m_get_data_from_filepath\u001b[0m\u001b[0;34m(\u001b[0m\u001b[0mfilepath_or_buffer\u001b[0m\u001b[0;34m)\u001b[0m\u001b[0;34m\u001b[0m\u001b[0;34m\u001b[0m\u001b[0m\n\u001b[0m\u001b[1;32m    665\u001b[0m         \u001b[0mself\u001b[0m\u001b[0;34m.\u001b[0m\u001b[0mdata\u001b[0m \u001b[0;34m=\u001b[0m \u001b[0mself\u001b[0m\u001b[0;34m.\u001b[0m\u001b[0m_preprocess_data\u001b[0m\u001b[0;34m(\u001b[0m\u001b[0mdata\u001b[0m\u001b[0;34m)\u001b[0m\u001b[0;34m\u001b[0m\u001b[0;34m\u001b[0m\u001b[0m\n\u001b[1;32m    666\u001b[0m \u001b[0;34m\u001b[0m\u001b[0m\n",
      "\u001b[0;32m~/anaconda3/lib/python3.7/site-packages/pandas/io/json/_json.py\u001b[0m in \u001b[0;36m_get_data_from_filepath\u001b[0;34m(self, filepath_or_buffer)\u001b[0m\n\u001b[1;32m    705\u001b[0m                 \u001b[0;34m\"r\"\u001b[0m\u001b[0;34m,\u001b[0m\u001b[0;34m\u001b[0m\u001b[0;34m\u001b[0m\u001b[0m\n\u001b[1;32m    706\u001b[0m                 \u001b[0mencoding\u001b[0m\u001b[0;34m=\u001b[0m\u001b[0mself\u001b[0m\u001b[0;34m.\u001b[0m\u001b[0mencoding\u001b[0m\u001b[0;34m,\u001b[0m\u001b[0;34m\u001b[0m\u001b[0;34m\u001b[0m\u001b[0m\n\u001b[0;32m--> 707\u001b[0;31m                 \u001b[0mcompression\u001b[0m\u001b[0;34m=\u001b[0m\u001b[0mself\u001b[0m\u001b[0;34m.\u001b[0m\u001b[0mcompression\u001b[0m\u001b[0;34m,\u001b[0m\u001b[0;34m\u001b[0m\u001b[0;34m\u001b[0m\u001b[0m\n\u001b[0m\u001b[1;32m    708\u001b[0m             )\n\u001b[1;32m    709\u001b[0m             \u001b[0mself\u001b[0m\u001b[0;34m.\u001b[0m\u001b[0mshould_close\u001b[0m \u001b[0;34m=\u001b[0m \u001b[0;32mTrue\u001b[0m\u001b[0;34m\u001b[0m\u001b[0;34m\u001b[0m\u001b[0m\n",
      "\u001b[0;32m~/anaconda3/lib/python3.7/site-packages/pandas/io/common.py\u001b[0m in \u001b[0;36mget_handle\u001b[0;34m(path_or_buf, mode, encoding, compression, memory_map, is_text)\u001b[0m\n\u001b[1;32m    382\u001b[0m         \u001b[0;32mif\u001b[0m \u001b[0mcompression\u001b[0m \u001b[0;34m==\u001b[0m \u001b[0;34m\"gzip\"\u001b[0m\u001b[0;34m:\u001b[0m\u001b[0;34m\u001b[0m\u001b[0;34m\u001b[0m\u001b[0m\n\u001b[1;32m    383\u001b[0m             \u001b[0;32mif\u001b[0m \u001b[0mis_path\u001b[0m\u001b[0;34m:\u001b[0m\u001b[0;34m\u001b[0m\u001b[0;34m\u001b[0m\u001b[0m\n\u001b[0;32m--> 384\u001b[0;31m                 \u001b[0mf\u001b[0m \u001b[0;34m=\u001b[0m \u001b[0mgzip\u001b[0m\u001b[0;34m.\u001b[0m\u001b[0mopen\u001b[0m\u001b[0;34m(\u001b[0m\u001b[0mpath_or_buf\u001b[0m\u001b[0;34m,\u001b[0m \u001b[0mmode\u001b[0m\u001b[0;34m)\u001b[0m\u001b[0;34m\u001b[0m\u001b[0;34m\u001b[0m\u001b[0m\n\u001b[0m\u001b[1;32m    385\u001b[0m             \u001b[0;32melse\u001b[0m\u001b[0;34m:\u001b[0m\u001b[0;34m\u001b[0m\u001b[0;34m\u001b[0m\u001b[0m\n\u001b[1;32m    386\u001b[0m                 \u001b[0mf\u001b[0m \u001b[0;34m=\u001b[0m \u001b[0mgzip\u001b[0m\u001b[0;34m.\u001b[0m\u001b[0mGzipFile\u001b[0m\u001b[0;34m(\u001b[0m\u001b[0mfileobj\u001b[0m\u001b[0;34m=\u001b[0m\u001b[0mpath_or_buf\u001b[0m\u001b[0;34m)\u001b[0m\u001b[0;34m\u001b[0m\u001b[0;34m\u001b[0m\u001b[0m\n",
      "\u001b[0;32m~/anaconda3/lib/python3.7/gzip.py\u001b[0m in \u001b[0;36mopen\u001b[0;34m(filename, mode, compresslevel, encoding, errors, newline)\u001b[0m\n\u001b[1;32m     56\u001b[0m     \u001b[0mgz_mode\u001b[0m \u001b[0;34m=\u001b[0m \u001b[0mmode\u001b[0m\u001b[0;34m.\u001b[0m\u001b[0mreplace\u001b[0m\u001b[0;34m(\u001b[0m\u001b[0;34m\"t\"\u001b[0m\u001b[0;34m,\u001b[0m \u001b[0;34m\"\"\u001b[0m\u001b[0;34m)\u001b[0m\u001b[0;34m\u001b[0m\u001b[0;34m\u001b[0m\u001b[0m\n\u001b[1;32m     57\u001b[0m     \u001b[0;32mif\u001b[0m \u001b[0misinstance\u001b[0m\u001b[0;34m(\u001b[0m\u001b[0mfilename\u001b[0m\u001b[0;34m,\u001b[0m \u001b[0;34m(\u001b[0m\u001b[0mstr\u001b[0m\u001b[0;34m,\u001b[0m \u001b[0mbytes\u001b[0m\u001b[0;34m,\u001b[0m \u001b[0mos\u001b[0m\u001b[0;34m.\u001b[0m\u001b[0mPathLike\u001b[0m\u001b[0;34m)\u001b[0m\u001b[0;34m)\u001b[0m\u001b[0;34m:\u001b[0m\u001b[0;34m\u001b[0m\u001b[0;34m\u001b[0m\u001b[0m\n\u001b[0;32m---> 58\u001b[0;31m         \u001b[0mbinary_file\u001b[0m \u001b[0;34m=\u001b[0m \u001b[0mGzipFile\u001b[0m\u001b[0;34m(\u001b[0m\u001b[0mfilename\u001b[0m\u001b[0;34m,\u001b[0m \u001b[0mgz_mode\u001b[0m\u001b[0;34m,\u001b[0m \u001b[0mcompresslevel\u001b[0m\u001b[0;34m)\u001b[0m\u001b[0;34m\u001b[0m\u001b[0;34m\u001b[0m\u001b[0m\n\u001b[0m\u001b[1;32m     59\u001b[0m     \u001b[0;32melif\u001b[0m \u001b[0mhasattr\u001b[0m\u001b[0;34m(\u001b[0m\u001b[0mfilename\u001b[0m\u001b[0;34m,\u001b[0m \u001b[0;34m\"read\"\u001b[0m\u001b[0;34m)\u001b[0m \u001b[0;32mor\u001b[0m \u001b[0mhasattr\u001b[0m\u001b[0;34m(\u001b[0m\u001b[0mfilename\u001b[0m\u001b[0;34m,\u001b[0m \u001b[0;34m\"write\"\u001b[0m\u001b[0;34m)\u001b[0m\u001b[0;34m:\u001b[0m\u001b[0;34m\u001b[0m\u001b[0;34m\u001b[0m\u001b[0m\n\u001b[1;32m     60\u001b[0m         \u001b[0mbinary_file\u001b[0m \u001b[0;34m=\u001b[0m \u001b[0mGzipFile\u001b[0m\u001b[0;34m(\u001b[0m\u001b[0;32mNone\u001b[0m\u001b[0;34m,\u001b[0m \u001b[0mgz_mode\u001b[0m\u001b[0;34m,\u001b[0m \u001b[0mcompresslevel\u001b[0m\u001b[0;34m,\u001b[0m \u001b[0mfilename\u001b[0m\u001b[0;34m)\u001b[0m\u001b[0;34m\u001b[0m\u001b[0;34m\u001b[0m\u001b[0m\n",
      "\u001b[0;32m~/anaconda3/lib/python3.7/gzip.py\u001b[0m in \u001b[0;36m__init__\u001b[0;34m(self, filename, mode, compresslevel, fileobj, mtime)\u001b[0m\n\u001b[1;32m    166\u001b[0m             \u001b[0mmode\u001b[0m \u001b[0;34m+=\u001b[0m \u001b[0;34m'b'\u001b[0m\u001b[0;34m\u001b[0m\u001b[0;34m\u001b[0m\u001b[0m\n\u001b[1;32m    167\u001b[0m         \u001b[0;32mif\u001b[0m \u001b[0mfileobj\u001b[0m \u001b[0;32mis\u001b[0m \u001b[0;32mNone\u001b[0m\u001b[0;34m:\u001b[0m\u001b[0;34m\u001b[0m\u001b[0;34m\u001b[0m\u001b[0m\n\u001b[0;32m--> 168\u001b[0;31m             \u001b[0mfileobj\u001b[0m \u001b[0;34m=\u001b[0m \u001b[0mself\u001b[0m\u001b[0;34m.\u001b[0m\u001b[0mmyfileobj\u001b[0m \u001b[0;34m=\u001b[0m \u001b[0mbuiltins\u001b[0m\u001b[0;34m.\u001b[0m\u001b[0mopen\u001b[0m\u001b[0;34m(\u001b[0m\u001b[0mfilename\u001b[0m\u001b[0;34m,\u001b[0m \u001b[0mmode\u001b[0m \u001b[0;32mor\u001b[0m \u001b[0;34m'rb'\u001b[0m\u001b[0;34m)\u001b[0m\u001b[0;34m\u001b[0m\u001b[0;34m\u001b[0m\u001b[0m\n\u001b[0m\u001b[1;32m    169\u001b[0m         \u001b[0;32mif\u001b[0m \u001b[0mfilename\u001b[0m \u001b[0;32mis\u001b[0m \u001b[0;32mNone\u001b[0m\u001b[0;34m:\u001b[0m\u001b[0;34m\u001b[0m\u001b[0;34m\u001b[0m\u001b[0m\n\u001b[1;32m    170\u001b[0m             \u001b[0mfilename\u001b[0m \u001b[0;34m=\u001b[0m \u001b[0mgetattr\u001b[0m\u001b[0;34m(\u001b[0m\u001b[0mfileobj\u001b[0m\u001b[0;34m,\u001b[0m \u001b[0;34m'name'\u001b[0m\u001b[0;34m,\u001b[0m \u001b[0;34m''\u001b[0m\u001b[0;34m)\u001b[0m\u001b[0;34m\u001b[0m\u001b[0;34m\u001b[0m\u001b[0m\n",
      "\u001b[0;31mFileNotFoundError\u001b[0m: [Errno 2] No such file or directory: '../../Data/processed/../../Data/processed/pruned006.json.gzip'"
     ]
    }
   ],
   "source": [
    "%%time\n",
    "dpf = pd.concat((pd.read_json(data_dir/fn, compression='gzip', orient='index') for fn in pfiles))"
   ]
  },
  {
   "cell_type": "code",
   "execution_count": 19,
   "metadata": {},
   "outputs": [
    {
     "output_type": "execute_result",
     "data": {
      "text/plain": "                                         id  \\\n0  742974499051673f32c20825a55fdb9c78952bf4   \n1  df366bfedb4dde13f4cf25220d353343e0f6cb93   \n2  4449b606c9f8df8ff5bbb035dad438d63eb493a7   \n4  14dc13730775e2743d0be28dc109b42f6df5c0d0   \n6  e47185d7760ac0556330f389ae0fe77921c05fd9   \n\n                                       paperAbstract  \\\n0  Abnormally elevated formation and activation o...   \n1  To understand drug combination effect, it is n...   \n2  Effects of 3, 25, 100, 200 and 800 microM Mn o...   \n4  In order to recover without any apparent damag...   \n6  162 Background: Cabazitaxel (Cbz) is a novel t...   \n\n                                               title  \\\n0  Inhibitory Effects of KP-A159, a Thiazolopyrid...   \n1  Elucidating synergistic dependencies in lung a...   \n2  Influence of a high Mn supply on Norway spruce...   \n4  DNA damage in storage cells of anhydrobiotic t...   \n6  Phase I trial of cabazitaxel plus cisplatin in...   \n\n                                       totalCitation  \n0  [8ea62a4270f632c14c38f35c2cef214f9ec51f6d, 0b5...  \n1  [069dbe4aeeef2e628536c0c009c01a08bd25387b, e81...  \n2  [e1e7a4954de96cb6e2d7a984261bb28a8a2371d8, 016...  \n4  [9478094aaa869a892c1a6a1963758ac6472d9d4f, a28...  \n6  [ca475f855ddd995c2e3bd57471ccbd1a6c51a22b, 7ee...  ",
      "text/html": "<div>\n<style scoped>\n    .dataframe tbody tr th:only-of-type {\n        vertical-align: middle;\n    }\n\n    .dataframe tbody tr th {\n        vertical-align: top;\n    }\n\n    .dataframe thead th {\n        text-align: right;\n    }\n</style>\n<table border=\"1\" class=\"dataframe\">\n  <thead>\n    <tr style=\"text-align: right;\">\n      <th></th>\n      <th>id</th>\n      <th>paperAbstract</th>\n      <th>title</th>\n      <th>totalCitation</th>\n    </tr>\n  </thead>\n  <tbody>\n    <tr>\n      <th>0</th>\n      <td>742974499051673f32c20825a55fdb9c78952bf4</td>\n      <td>Abnormally elevated formation and activation o...</td>\n      <td>Inhibitory Effects of KP-A159, a Thiazolopyrid...</td>\n      <td>[8ea62a4270f632c14c38f35c2cef214f9ec51f6d, 0b5...</td>\n    </tr>\n    <tr>\n      <th>1</th>\n      <td>df366bfedb4dde13f4cf25220d353343e0f6cb93</td>\n      <td>To understand drug combination effect, it is n...</td>\n      <td>Elucidating synergistic dependencies in lung a...</td>\n      <td>[069dbe4aeeef2e628536c0c009c01a08bd25387b, e81...</td>\n    </tr>\n    <tr>\n      <th>2</th>\n      <td>4449b606c9f8df8ff5bbb035dad438d63eb493a7</td>\n      <td>Effects of 3, 25, 100, 200 and 800 microM Mn o...</td>\n      <td>Influence of a high Mn supply on Norway spruce...</td>\n      <td>[e1e7a4954de96cb6e2d7a984261bb28a8a2371d8, 016...</td>\n    </tr>\n    <tr>\n      <th>4</th>\n      <td>14dc13730775e2743d0be28dc109b42f6df5c0d0</td>\n      <td>In order to recover without any apparent damag...</td>\n      <td>DNA damage in storage cells of anhydrobiotic t...</td>\n      <td>[9478094aaa869a892c1a6a1963758ac6472d9d4f, a28...</td>\n    </tr>\n    <tr>\n      <th>6</th>\n      <td>e47185d7760ac0556330f389ae0fe77921c05fd9</td>\n      <td>162 Background: Cabazitaxel (Cbz) is a novel t...</td>\n      <td>Phase I trial of cabazitaxel plus cisplatin in...</td>\n      <td>[ca475f855ddd995c2e3bd57471ccbd1a6c51a22b, 7ee...</td>\n    </tr>\n  </tbody>\n</table>\n</div>"
     },
     "metadata": {},
     "execution_count": 19
    }
   ],
   "source": [
    "dpf.head()"
   ]
  },
  {
   "cell_type": "code",
   "execution_count": 27,
   "metadata": {},
   "outputs": [
    {
     "output_type": "error",
     "ename": "ValueError",
     "evalue": "Expected object or value",
     "traceback": [
      "\u001b[0;31m---------------------------------------------------------------------------\u001b[0m",
      "\u001b[0;31mValueError\u001b[0m                                Traceback (most recent call last)",
      "\u001b[0;32m<ipython-input-27-8b3d4322042f>\u001b[0m in \u001b[0;36m<module>\u001b[0;34m\u001b[0m\n\u001b[1;32m      1\u001b[0m \u001b[0mpaperID\u001b[0m \u001b[0;34m=\u001b[0m \u001b[0mdata_dir\u001b[0m\u001b[0;34m.\u001b[0m\u001b[0mparent\u001b[0m\u001b[0;34m/\u001b[0m\u001b[0;34m'paperID2emb.json'\u001b[0m\u001b[0;34m\u001b[0m\u001b[0;34m\u001b[0m\u001b[0m\n\u001b[1;32m      2\u001b[0m \u001b[0;31m# paperIDemb = pd.read_json(paperID)\u001b[0m\u001b[0;34m\u001b[0m\u001b[0;34m\u001b[0m\u001b[0;34m\u001b[0m\u001b[0m\n\u001b[0;32m----> 3\u001b[0;31m \u001b[0mpaperIDemb\u001b[0m \u001b[0;34m=\u001b[0m \u001b[0mpd\u001b[0m\u001b[0;34m.\u001b[0m\u001b[0mread_json\u001b[0m\u001b[0;34m(\u001b[0m\u001b[0mpaperID\u001b[0m\u001b[0;34m,\u001b[0m  \u001b[0mlines\u001b[0m\u001b[0;34m=\u001b[0m\u001b[0;32mTrue\u001b[0m\u001b[0;34m,\u001b[0m \u001b[0morient\u001b[0m\u001b[0;34m=\u001b[0m\u001b[0;34m'split'\u001b[0m\u001b[0;34m)\u001b[0m\u001b[0;34m\u001b[0m\u001b[0;34m\u001b[0m\u001b[0m\n\u001b[0m",
      "\u001b[0;32m~/anaconda3/lib/python3.7/site-packages/pandas/util/_decorators.py\u001b[0m in \u001b[0;36mwrapper\u001b[0;34m(*args, **kwargs)\u001b[0m\n\u001b[1;32m    212\u001b[0m                 \u001b[0;32melse\u001b[0m\u001b[0;34m:\u001b[0m\u001b[0;34m\u001b[0m\u001b[0;34m\u001b[0m\u001b[0m\n\u001b[1;32m    213\u001b[0m                     \u001b[0mkwargs\u001b[0m\u001b[0;34m[\u001b[0m\u001b[0mnew_arg_name\u001b[0m\u001b[0;34m]\u001b[0m \u001b[0;34m=\u001b[0m \u001b[0mnew_arg_value\u001b[0m\u001b[0;34m\u001b[0m\u001b[0;34m\u001b[0m\u001b[0m\n\u001b[0;32m--> 214\u001b[0;31m             \u001b[0;32mreturn\u001b[0m \u001b[0mfunc\u001b[0m\u001b[0;34m(\u001b[0m\u001b[0;34m*\u001b[0m\u001b[0margs\u001b[0m\u001b[0;34m,\u001b[0m \u001b[0;34m**\u001b[0m\u001b[0mkwargs\u001b[0m\u001b[0;34m)\u001b[0m\u001b[0;34m\u001b[0m\u001b[0;34m\u001b[0m\u001b[0m\n\u001b[0m\u001b[1;32m    215\u001b[0m \u001b[0;34m\u001b[0m\u001b[0m\n\u001b[1;32m    216\u001b[0m         \u001b[0;32mreturn\u001b[0m \u001b[0mcast\u001b[0m\u001b[0;34m(\u001b[0m\u001b[0mF\u001b[0m\u001b[0;34m,\u001b[0m \u001b[0mwrapper\u001b[0m\u001b[0;34m)\u001b[0m\u001b[0;34m\u001b[0m\u001b[0;34m\u001b[0m\u001b[0m\n",
      "\u001b[0;32m~/anaconda3/lib/python3.7/site-packages/pandas/io/json/_json.py\u001b[0m in \u001b[0;36mread_json\u001b[0;34m(path_or_buf, orient, typ, dtype, convert_axes, convert_dates, keep_default_dates, numpy, precise_float, date_unit, encoding, lines, chunksize, compression)\u001b[0m\n\u001b[1;32m    606\u001b[0m         \u001b[0;32mreturn\u001b[0m \u001b[0mjson_reader\u001b[0m\u001b[0;34m\u001b[0m\u001b[0;34m\u001b[0m\u001b[0m\n\u001b[1;32m    607\u001b[0m \u001b[0;34m\u001b[0m\u001b[0m\n\u001b[0;32m--> 608\u001b[0;31m     \u001b[0mresult\u001b[0m \u001b[0;34m=\u001b[0m \u001b[0mjson_reader\u001b[0m\u001b[0;34m.\u001b[0m\u001b[0mread\u001b[0m\u001b[0;34m(\u001b[0m\u001b[0;34m)\u001b[0m\u001b[0;34m\u001b[0m\u001b[0;34m\u001b[0m\u001b[0m\n\u001b[0m\u001b[1;32m    609\u001b[0m     \u001b[0;32mif\u001b[0m \u001b[0mshould_close\u001b[0m\u001b[0;34m:\u001b[0m\u001b[0;34m\u001b[0m\u001b[0;34m\u001b[0m\u001b[0m\n\u001b[1;32m    610\u001b[0m         \u001b[0mfilepath_or_buffer\u001b[0m\u001b[0;34m.\u001b[0m\u001b[0mclose\u001b[0m\u001b[0;34m(\u001b[0m\u001b[0;34m)\u001b[0m\u001b[0;34m\u001b[0m\u001b[0;34m\u001b[0m\u001b[0m\n",
      "\u001b[0;32m~/anaconda3/lib/python3.7/site-packages/pandas/io/json/_json.py\u001b[0m in \u001b[0;36mread\u001b[0;34m(self)\u001b[0m\n\u001b[1;32m    727\u001b[0m         \u001b[0;32melif\u001b[0m \u001b[0mself\u001b[0m\u001b[0;34m.\u001b[0m\u001b[0mlines\u001b[0m\u001b[0;34m:\u001b[0m\u001b[0;34m\u001b[0m\u001b[0;34m\u001b[0m\u001b[0m\n\u001b[1;32m    728\u001b[0m             \u001b[0mdata\u001b[0m \u001b[0;34m=\u001b[0m \u001b[0mensure_str\u001b[0m\u001b[0;34m(\u001b[0m\u001b[0mself\u001b[0m\u001b[0;34m.\u001b[0m\u001b[0mdata\u001b[0m\u001b[0;34m)\u001b[0m\u001b[0;34m\u001b[0m\u001b[0;34m\u001b[0m\u001b[0m\n\u001b[0;32m--> 729\u001b[0;31m             \u001b[0mobj\u001b[0m \u001b[0;34m=\u001b[0m \u001b[0mself\u001b[0m\u001b[0;34m.\u001b[0m\u001b[0m_get_object_parser\u001b[0m\u001b[0;34m(\u001b[0m\u001b[0mself\u001b[0m\u001b[0;34m.\u001b[0m\u001b[0m_combine_lines\u001b[0m\u001b[0;34m(\u001b[0m\u001b[0mdata\u001b[0m\u001b[0;34m.\u001b[0m\u001b[0msplit\u001b[0m\u001b[0;34m(\u001b[0m\u001b[0;34m\"\\n\"\u001b[0m\u001b[0;34m)\u001b[0m\u001b[0;34m)\u001b[0m\u001b[0;34m)\u001b[0m\u001b[0;34m\u001b[0m\u001b[0;34m\u001b[0m\u001b[0m\n\u001b[0m\u001b[1;32m    730\u001b[0m         \u001b[0;32melse\u001b[0m\u001b[0;34m:\u001b[0m\u001b[0;34m\u001b[0m\u001b[0;34m\u001b[0m\u001b[0m\n\u001b[1;32m    731\u001b[0m             \u001b[0mobj\u001b[0m \u001b[0;34m=\u001b[0m \u001b[0mself\u001b[0m\u001b[0;34m.\u001b[0m\u001b[0m_get_object_parser\u001b[0m\u001b[0;34m(\u001b[0m\u001b[0mself\u001b[0m\u001b[0;34m.\u001b[0m\u001b[0mdata\u001b[0m\u001b[0;34m)\u001b[0m\u001b[0;34m\u001b[0m\u001b[0;34m\u001b[0m\u001b[0m\n",
      "\u001b[0;32m~/anaconda3/lib/python3.7/site-packages/pandas/io/json/_json.py\u001b[0m in \u001b[0;36m_get_object_parser\u001b[0;34m(self, json)\u001b[0m\n\u001b[1;32m    751\u001b[0m         \u001b[0mobj\u001b[0m \u001b[0;34m=\u001b[0m \u001b[0;32mNone\u001b[0m\u001b[0;34m\u001b[0m\u001b[0;34m\u001b[0m\u001b[0m\n\u001b[1;32m    752\u001b[0m         \u001b[0;32mif\u001b[0m \u001b[0mtyp\u001b[0m \u001b[0;34m==\u001b[0m \u001b[0;34m\"frame\"\u001b[0m\u001b[0;34m:\u001b[0m\u001b[0;34m\u001b[0m\u001b[0;34m\u001b[0m\u001b[0m\n\u001b[0;32m--> 753\u001b[0;31m             \u001b[0mobj\u001b[0m \u001b[0;34m=\u001b[0m \u001b[0mFrameParser\u001b[0m\u001b[0;34m(\u001b[0m\u001b[0mjson\u001b[0m\u001b[0;34m,\u001b[0m \u001b[0;34m**\u001b[0m\u001b[0mkwargs\u001b[0m\u001b[0;34m)\u001b[0m\u001b[0;34m.\u001b[0m\u001b[0mparse\u001b[0m\u001b[0;34m(\u001b[0m\u001b[0;34m)\u001b[0m\u001b[0;34m\u001b[0m\u001b[0;34m\u001b[0m\u001b[0m\n\u001b[0m\u001b[1;32m    754\u001b[0m \u001b[0;34m\u001b[0m\u001b[0m\n\u001b[1;32m    755\u001b[0m         \u001b[0;32mif\u001b[0m \u001b[0mtyp\u001b[0m \u001b[0;34m==\u001b[0m \u001b[0;34m\"series\"\u001b[0m \u001b[0;32mor\u001b[0m \u001b[0mobj\u001b[0m \u001b[0;32mis\u001b[0m \u001b[0;32mNone\u001b[0m\u001b[0;34m:\u001b[0m\u001b[0;34m\u001b[0m\u001b[0;34m\u001b[0m\u001b[0m\n",
      "\u001b[0;32m~/anaconda3/lib/python3.7/site-packages/pandas/io/json/_json.py\u001b[0m in \u001b[0;36mparse\u001b[0;34m(self)\u001b[0m\n\u001b[1;32m    855\u001b[0m \u001b[0;34m\u001b[0m\u001b[0m\n\u001b[1;32m    856\u001b[0m         \u001b[0;32melse\u001b[0m\u001b[0;34m:\u001b[0m\u001b[0;34m\u001b[0m\u001b[0;34m\u001b[0m\u001b[0m\n\u001b[0;32m--> 857\u001b[0;31m             \u001b[0mself\u001b[0m\u001b[0;34m.\u001b[0m\u001b[0m_parse_no_numpy\u001b[0m\u001b[0;34m(\u001b[0m\u001b[0;34m)\u001b[0m\u001b[0;34m\u001b[0m\u001b[0;34m\u001b[0m\u001b[0m\n\u001b[0m\u001b[1;32m    858\u001b[0m \u001b[0;34m\u001b[0m\u001b[0m\n\u001b[1;32m    859\u001b[0m         \u001b[0;32mif\u001b[0m \u001b[0mself\u001b[0m\u001b[0;34m.\u001b[0m\u001b[0mobj\u001b[0m \u001b[0;32mis\u001b[0m \u001b[0;32mNone\u001b[0m\u001b[0;34m:\u001b[0m\u001b[0;34m\u001b[0m\u001b[0;34m\u001b[0m\u001b[0m\n",
      "\u001b[0;32m~/anaconda3/lib/python3.7/site-packages/pandas/io/json/_json.py\u001b[0m in \u001b[0;36m_parse_no_numpy\u001b[0;34m(self)\u001b[0m\n\u001b[1;32m   1092\u001b[0m             decoded = {\n\u001b[1;32m   1093\u001b[0m                 \u001b[0mstr\u001b[0m\u001b[0;34m(\u001b[0m\u001b[0mk\u001b[0m\u001b[0;34m)\u001b[0m\u001b[0;34m:\u001b[0m \u001b[0mv\u001b[0m\u001b[0;34m\u001b[0m\u001b[0;34m\u001b[0m\u001b[0m\n\u001b[0;32m-> 1094\u001b[0;31m                 \u001b[0;32mfor\u001b[0m \u001b[0mk\u001b[0m\u001b[0;34m,\u001b[0m \u001b[0mv\u001b[0m \u001b[0;32min\u001b[0m \u001b[0mloads\u001b[0m\u001b[0;34m(\u001b[0m\u001b[0mjson\u001b[0m\u001b[0;34m,\u001b[0m \u001b[0mprecise_float\u001b[0m\u001b[0;34m=\u001b[0m\u001b[0mself\u001b[0m\u001b[0;34m.\u001b[0m\u001b[0mprecise_float\u001b[0m\u001b[0;34m)\u001b[0m\u001b[0;34m.\u001b[0m\u001b[0mitems\u001b[0m\u001b[0;34m(\u001b[0m\u001b[0;34m)\u001b[0m\u001b[0;34m\u001b[0m\u001b[0;34m\u001b[0m\u001b[0m\n\u001b[0m\u001b[1;32m   1095\u001b[0m             }\n\u001b[1;32m   1096\u001b[0m             \u001b[0mself\u001b[0m\u001b[0;34m.\u001b[0m\u001b[0mcheck_keys_split\u001b[0m\u001b[0;34m(\u001b[0m\u001b[0mdecoded\u001b[0m\u001b[0;34m)\u001b[0m\u001b[0;34m\u001b[0m\u001b[0;34m\u001b[0m\u001b[0m\n",
      "\u001b[0;31mValueError\u001b[0m: Expected object or value"
     ]
    }
   ],
   "source": [
    "paperID = data_dir.parent/'paperID2emb.json'\n",
    "# paperIDemb = pd.read_json(paperID)\n",
    "paperIDemb = pd.read_json(paperID,  lines=True, orient='split')"
   ]
  },
  {
   "cell_type": "code",
   "execution_count": 25,
   "metadata": {
    "tags": [
     "outputPrepend"
    ]
   },
   "outputs": [
    {
     "output_type": "stream",
     "name": "stdout",
     "text": "563, \"e22591e4316a1857e3059bfeaee4ac36ec140180\": 1325564, \"6f0e8f1a7e4b4931d05f7b329bb9f7ff198f12c8\": 1325565, \"0cb97d510f9d83ed997bfd349e4940282b042943\": 1325566, \"312b3cf1b227111f004e572e01fb041db26692ac\": 1325567, \"d15b0f7e4c223a60e7c5f8aa18578c64ff78cac1\": 1325568, \"2af0c5e7f77db2543a6befc9a6ef13e7951084fd\": 1325569, \"5e7fa8c50006e135c96ec4e338ae5998c80cd0d9\": 1325570, \"1ade05ae4370adcd1f0f567a6b1f4a3fabffe114\": 1325571, \"807f356b0ba3a0136ac1143521420c2fe5f3522b\": 1325572, \"937bbd506afb5cc2739c1f908aec71a3357a4c6e\": 1325573, \"36a38a2987a6f8bd6a3d0066dad29e2a2a5d25ba\": 1325574, \"c6cbd74f071392dce7b707ce62731e48858a5c1c\": 1325575, \"15c843164b91270f49676600dfc51ce6a64bde95\": 1325576, \"9d2fed105ace7df23d3ff9b04b38c29e10c1de9c\": 1325577, \"f83227a36ccbe81c96bad3a4f0dda54eef4c7506\": 1325578, \"475fb515604aa58cb187bc19166e4c413f1351d3\": 1325579, \"4b2f115dc9121db7d8d44dcf9c34b195f20c0692\": 1325580, \"ac0cb23641e9317fa6de40f349ae6ec2a66cc885\": 1325581, \"202232ef4b0f97e122e9fb5332bb7aac1819c7b2\": 1325582, \"f447a4795d48368d63d653bbb5a495549a501e6f\": 1325583, \"f2af00ffa5594f9c8f519fe7c93d118d25f80dca\": 1325584, \"c3819b25787c5b0750c2df9e19485fe8b2fdccdb\": 1325585, \"70d10243215ff43c33b1053eb5ad23f39a3e74ea\": 1325586, \"c4de95f83ff03986c752b528e30bf810672531c2\": 1325587, \"b214e161b1eb4abf6cabba0893d94568ccce03dc\": 1325588, \"22f59bc49dade96202c77203d63b29b06cd9aeb2\": 1325589, \"dafc49ea8a00ed0227a4440a1f162932456ecd2d\": 1325590, \"303bd9de05902df627e474e67db4a58765eb2420\": 1325591, \"b9bbfa47fbbf3b08444caa217f78ad09c03001f9\": 1325592, \"2ed529dc8aa636cc128c245dbe31dfa89e4fd657\": 1325593, \"eea6d2ade3cdee658b1512918aaba98b026cd429\": 1325594, \"efb4bf6107bf64cbf5a6aeab318d18bff728d9fb\": 1325595, \"dc479d7e0fcd23dddbe1c5619b79f7964b0b18ac\": 1325596, \"f681d68fc6566cfff17bf0e79a6e48b712c90dab\": 1325597, \"27443381d9f3280c727b24d68e682c94028c1db7\": 1325598, \"8f158b1e74dd9150a622474cb9ea49faf4a6c83a\": 1325599, \"82b892c90fd60231a7afd6baaac713fac1f96ea3\": 1325600, \"49d7f4f715cc6268935ccb7d63f8e33c65eefaca\": 1325601, \"f562d1b84cc7965e8047c16ad9ec815bb0e0e4d3\": 1325602, \"198fa10a8049c0bd2dbe9994f75e9ba99ee60d25\": 1325603, \"eb0d29479f1d3067bc40b2bc37f6f2b2052d823b\": 1325604, \"f1632e9b160df55cff7871ab252634413e116ca5\": 1325605, \"0b4bca211475f2e7c7a9d574a38fd2f91f59bc39\": 1325606, \"18431a44155b082e2a31b3f90cafc51a68c0fa88\": 1325607, \"5f65f5da880a2e05fc742e49cbe01dd2bce1bc51\": 1325608, \"17fefc4055c22ff34ebbb217f20aa960c4e3d708\": 1325609, \"20023c1ef2c06591a80b817518b3ba1c2a9c6e76\": 1325610, \"e96a4ef4f3de1c47df584ee486cff787922f76ac\": 1325611, \"2ce4174e4ae13a4c227a509accc899aa53ce2e4b\": 1325612, \"9ece3978b6700146b17d38974fc0a48640379255\": 1325613, \"2ba17098224b1e4994b843847c0adae11a869191\": 1325614, \"9cf187c025a7280886104c6d343e1d49436b5ce9\": 1325615, \"46fa196717ca989bc205cb6a53c4f7cea0f52045\": 1325616, \"8eb4604deb3f0779de477588137060381964323c\": 1325617, \"c734dde397ab318fbe7614dff5162ba6924b7889\": 1325618, \"214b1dfce9a8830438b5c0f145be18c8a77aa891\": 1325619, \"21bb84e055b926487a05638bda199a2a3e855c6a\": 1325620, \"884fb018eafd55a2429b6f5dba26d4b10b2b54a9\": 1325621, \"f33059551ec7d1314534717c37747c7d05586604\": 1325622, \"0fc654b8976aeb119c6487b7d19d1d8e40728396\": 1325623, \"b6f37fd2f7869520e022cdf8a8ddcb38a695c043\": 1325624, \"33cc757052f71a90f105f73076cd7a594e2effd9\": 1325625, \"d5f37be77ce4d07904a7333a44e1bf59e9b7fc23\": 1325626, \"9de68e096a1f4d0fe29e486f3e207bfec44d6a17\": 1325627, \"3698b64886d1664e9b464364ab1eab236f248686\": 1325628, \"b4de56dea947d8535bc71f1ed275f0a32641c0b4\": 1325629, \"48b203df0fb65c8f967e79acc181be0870862d80\": 1325630, \"0b92030efa2326b726d962228e4fc14ed833584f\": 1325631, \"effbf735c9f5350488a5a2dffcee5f69884807fd\": 1325632, \"1b79c506be7ba7f63b6d29ee2ff530539d47c516\": 1325633, \"2a0de909b8f3d44bb189b48f905f41c5c8cafbc7\": 1325634, \"b485bc6f1694c66bb92afd2c5edaa62908bbd0f4\": 1325635, \"87ecda92badf9ac0af1a9f977dc3d017b62cb3e6\": 1325636, \"1b46cf03e9a5117291f6354681895c01ba449c1d\": 1325637, \"44bb720f9aee000b9dd1a7f13445cf2a2f1e101a\": 1325638, \"d82c57b3da5ab507248f45e52ff8211246aadb83\": 1325639, \"be9e9b7cebeae797688661f0b6d1843fd7aeb44e\": 1325640, \"5cc4c15dffa53a4ed7877b2fc79d7884c4a86d56\": 1325641, \"69883f1166cb4ff0f48e07f9b797e539a7033a89\": 1325642, \"ef50f69a1ad4582791daf4ba93406f5696208a00\": 1325643, \"d0791f3cb27ff9b093577e0c6a45aeb98ef99d7b\": 1325644, \"629fc15591c17e3d1e4dcc8b30c0d7b10971892f\": 1325645, \"1149c0c83f9f74e601c63bcb46afaafecb04cef8\": 1325646, \"cac99be1ef9bc907d8890017519a1d98ab9f709d\": 1325647, \"35cd94cddfef737f3d2a5684c109c734ca521667\": 1325648, \"ecd062cc60aa097cc95a30ba1b17a3e71b6c5a21\": 1325649, \"0215a51ad4d86b45e0c025e03b1fdfe4a8513e38\": 1325650, \"589fa1ae5dab17685108ed0e44a343268c691d47\": 1325651, \"1f1769ae81dad86028eed30d4b8cbef255aa67a3\": 1325652, \"0f83b5d26f76b405b92d2a67448e54c3ebbad35c\": 1325653, \"fc2e271ce9bf38ad1e5a385a8d6b24c932b4db07\": 1325654, \"d5caa0fcff15eb830f040d255746d3b58ee5af98\": 1325655, \"d91f4f85ca99f5db2f8e2f8ef7d75c0d7671bc9e\": 1325656, \"42af62bd5158d3cc5f98b274452cda0c3f1823ff\": 1325657, \"13b16e5f7ff06842b42e75a45d6089e65f717fff\": 1325658, \"b2287dfbcf3e29f22ac5913772cc21b68b4726bb\": 1325659, \"2d9ab8f7d5541c40f6eab49412d03808606084fa\": 1325660, \"156ad95b0da17410b5b574d8ff29a2e110c5b40b\": 1325661, \"32f9ffe8be3ef387d56209e78a4432c06d0271b8\": 1325662, \"7483267b53e4c8adb5862c0579dd67395c9eb709\": 1325663, \"8d19af62cdd67e5863db0b597457fbe7a334ccbf\": 1325664, \"8d6484ea21e42c49f8e3afa27b1cae4f6c3e4597\": 1325665, \"3adf2ab5550a17864693d373198385ab5675c620\": 1325666, \"89c24ee31036a335dc8f05b1f180c15e88df6b86\": 1325667, \"e3dab621307622c36820e5f55130cb94a28f5e76\": 1325668, \"df90d6b4055a2f2c7541b8f287c7036c835c951c\": 1325669, \"94a0e5f69385c3c0794cbc3999db4acd9dff5acd\": 1325670, \"442a83441f7cbdb45cf05d632660651370a5d2aa\": 1325671, \"a58e8a0aa11c984c181729e755a413af223cedfd\": 1325672, \"3acdac1b182549f986b8516f77a7ecfb329ba6ee\": 1325673, \"424dee8d53d1ee163093d278b7b5f2df9071ed63\": 1325674, \"c734d456ee4cd7ffcac57f1ce7ed69dd821a3ff8\": 1325675, \"22f4b79b49ccb219229769b6e85e0c638c8f6813\": 1325676, \"ef926906f1b725ee10145c5edb4579c2df70b8de\": 1325677, \"7a247bca6b629a2a1534c53caca018e7451b88be\": 1325678, \"873ec957834092080751a1a9da4f2a4db6fc0f8b\": 1325679, \"902e01db2c9f2ef4da81002ab06b7c3fe37cd1b8\": 1325680, \"423be0ca9fe7effd9b0bdb4b00f3bcc841f712b1\": 1325681, \"26603b55f1f0ecf9178c9fd5809267b2d8b31d77\": 1325682, \"cc44be7cf59cb650a8ddda741626e1fa6cb5d2ea\": 1325683, \"33a0fae3e10bc00f821b5cbb45a44f1a409915f3\": 1325684, \"a84ddd6ad8b509ee8907873827759f0db12f124c\": 1325685, \"8758d85fda409b5c0a9b6d03327fecfb26dd11e5\": 1325686, \"a3d04ecb620829830bc3db376ebddb4b07d2160a\": 1325687, \"571e5ecf50cdd0c4c7e5c8d8ab9b18e09364f390\": 1325688, \"915c422a2bb599fb268de390da4655b3a298f882\": 1325689, \"88535d70f63629aa1280ede49423e56eb6fc8286\": 1325690, \"81578d0ca373bba1bbbe54bd57c690a1feaf0c15\": 1325691, \"8ad419b9968ae2bbbbe1b545f647b3df895df65a\": 1325692, \"c6b67b8b9517a457de198517911d483e7dbd454c\": 1325693, \"097cc17a412a60262a7f3add955732e1349c7a95\": 1325694, \"faa99301ea15e4c81752883716a8d143eee47683\": 1325695, \"835266633fd2f5acad5e7d29385f94ba524a9a39\": 1325696, \"0b02b29666ee8d11c0a4aaffe5c2683a371ee421\": 1325697, \"ba6ded9300b6f11dd88b844be73b83a95a253f76\": 1325698, \"9a1eb8297a909d7a25c3832745a8aa8e49ee6848\": 1325699, \"46896b679da26faff41b658ce9cb9bf12adbb1f0\": 1325700, \"1f5e87b954da1ed83bcdffc34e53553917259bd7\": 1325701, \"4776036911249ca3afe968fe48a7595aae2d3d1d\": 1325702, \"0cecafd70a38c1ce8ff5ded3d0ddfeb0a3a4f0dc\": 1325703, \"d1540e0bd2dab3cd8fcbeee799626c77d3b8a836\": 1325704, \"c67e78d43ea78bb5bde3272bc3978de41edc3fad\": 1325705, \"d27eacc92d8a2104e1efd6f7fccc89e8860ed05a\": 1325706, \"046f7fa550b1aea032a3a11be9ae2eb0a98931d4\": 1325707, \"995c1f47a9a65664c46c9290d11df5284a748e15\": 1325708, \"dd015d90a21c6327d387a0c5e8113e8c7d2883b4\": 1325709, \"116fed776286f3bd9d63fc62806faca86fc42244\": 1325710, \"5c9c3d64061a64af33ffef2f9744c3c93cc454b7\": 1325711, \"3851de74e58ab5c8733e7b95852c3725e2c885e1\": 1325712, \"7911df11f1998a7a8c83f7ad6791d7d237e56516\": 1325713, \"281a50fae01cce23decb693bbb2cb4df0a4ca0a4\": 1325714, \"21d6ec264766bd5ed10cdb05492d2fca166813e2\": 1325715, \"cfd36ee578866b7d14a31e8ea2b0f2d0f04acf20\": 1325716, \"dccab9ca8e21104ff2a18912d1367db5e5f943ed\": 1325717, \"9c79f52164a337c056068b35c3bba6b2a3d7e1cc\": 1325718, \"8890474fa366d1b7bc7563ae9320d4d9b59afd2a\": 1325719, \"0e10d8330994d1c6a7ed3ddad929acfde4483c87\": 1325720, \"5d3222206a2edb62a008011590a80fe631a284d1\": 1325721, \"1020fd6304f221afce27405b65af640b5aa2a1d6\": 1325722, \"f0d0583a79834b8c4e415a932439c29f19dc003c\": 1325723, \"78020f1ff14f3d3055755f4acd2136728b2a954d\": 1325724, \"9f3084ec0cf4dfb33e75cb3551a991f4ec3320f7\": 1325725, \"1f53159a582ca9316d8fd4f662cbe0a3b397b28c\": 1325726, \"193d29b849b5058e774e285ab8fc548e5fb52493\": 1325727, \"d0e21322ea97fbe9fa215f20b38078d4d71ef644\": 1325728, \"49c421ea577447c455759fcc3f88471e30b70ac9\": 1325729, \"55c36d0faeab6e504a2cc3414c5a3fa318e9c1e3\": 1325730, \"d05f01eeaafdc1f41852b33aebdd4c796130269b\": 1325731, \"e785f155988e63bf1c87fdd566edeb3a7fbc7240\": 1325732, \"66347d6cf03451e4efa5f5cc0141d61ba57a670c\": 1325733, \"ec738152b93691b98cfcb763c38723c73e1e8607\": 1325734, \"9c61a5af442e1d55a8aa60cb4c326d999cf57d4f\": 1325735, \"c0db9ea8cdcea85b5fa50428ac5485ff76ea59a0\": 1325736, \"cc7f761e5582ccbf73e3e8902fae786998f0c107\": 1325737, \"7e7c044748f935e0a927c151e8806e7a27a205d1\": 1325738, \"d8ed0009ce72a27524c81a9a6ea67c166167e2b3\": 1325739, \"0696b28a13a58cceacc26e0538653f5920741d12\": 1325740, \"c9a7289c76544fd5b88777a5237ea5fe5b2a4ee6\": 1325741, \"049a420e575a714800ed6a691e07687c5852f626\": 1325742, \"cfc05986cdfd00c271a8904e3b19471c341bd419\": 1325743, \"38d0dd44457797b4d953b80a9a6186fe02c5f88e\": 1325744, \"453e7583f4b3049b327915662934f7203fbf469d\": 1325745, \"4c0e591cd0a6883ade14945266db7e4e2f73ec6b\": 1325746, \"2755baa389d7504199c7ce65bfa671f853fb4944\": 1325747, \"6342200183444391202f3e9a2d53558d64827510\": 1325748, \"a54df0a32565dde936b9e22e90cabe972b7827e0\": 1325749, \"c599118154a70b4c5b5e9ff5d2b51e0a0c51c04a\": 1325750, \"150ac8d962c93f914a7a20d86aa6d53005917880\": 1325751, \"9a6c7fc66339ccdcf0eef4cdc2d262749b792e51\": 1325752, \"de4a8c27ea175d75f0b1112f5865e28fb2ed517a\": 1325753, \"2cc6a039a05e0b08153b01a7aabea027b1aae159\": 1325754, \"361ed71aaaec27e7e670bec5de82d0c40b76ee06\": 1325755, \"bcc392d0e37626291e96bae64ff3ea58a02e79ce\": 1325756, \"fcbf265907eb8706466e21615bee950a2c3384ea\": 1325757, \"7e0c41757959d0ee221872d5c51c52164ccdedbd\": 1325758, \"6a27e016b494ef7960dabe5ada9679fb4d23e6f3\": 1325759, \"e9f660090e41ca0cbbd04a9351271699837ecf80\": 1325760, \"51c7bab0dccf2ae05ce9939be1a4f34800653888\": 1325761, \"c6a6c3fb58f35df0989306f1b245f287e2ec1962\": 1325762, \"4e11e7c71748dbf19c77b969c2cc83b8a11817d8\": 1325763, \"9a72987a142184468793902b7b896eb49ff660b8\": 1325764, \"dcc9bf142f82aacd297f4a02605add8e6b2364a5\": 1325765, \"9025708aa0c1770815b7b881d66f0491cf472031\": 1325766, \"71beeefa473e68456ac866ce1117c63ed46d3faf\": 1325767, \"52da63976faf870b261f30ad4ad5738b9432a13e\": 1325768, \"54b9ab9b602fe5599d478d53dfd65e5d5af6d79b\": 1325769, \"b451587d5988a0c6dff301925e37633ba21cad94\": 1325770, \"85b4073b62888dcca4033f3abb08222f519506a1\": 1325771, \"d3986a43f870df5f89ddc7042bdb21f7062eceac\": 1325772, \"e1308e6b39200094a437de9fdf48f53323cbd2c1\": 1325773, \"74edd05ab698fe9692398f33e341c28f8b5c770e\": 1325774, \"b1aa824b8ab7eaf41e5a1d54fa6f187c726e0c55\": 1325775, \"be2764a802703be17d2782b2fdcc130b23a89a80\": 1325776, \"5e0dfa4069b993fa6bb2686f8d1a7948636e94ad\": 1325777, \"bfad60e6a80c7bf58af4adda30c90d30e362fe79\": 1325778, \"5ff2d0863b59efbb86128cf92f970f0683eaa427\": 1325779, \"59cc033e76e8100e4cb784ceaa9da26b7edfa20b\": 1325780, \"657b4c321b9e1af58efb3a46461810400f2ca179\": 1325781, \"c9e7a30f28273b278b2b559291210926ceb5dcea\": 1325782, \"77c85bcbca588cbe5ff08218b60f3fae19efcaf4\": 1325783, \"dfe1af834b301ba212610c5f1db15f30834722e3\": 1325784, \"1b1e683c4b26482fee921db1a1787890a4aedaf4\": 1325785, \"80f2cb9db7deecef0442b067f3127f49eb31f4a9\": 1325786, \"8984ffb1f9ff7415b818405657a5906fb00890c3\": 1325787, \"0cc74ac6b33e3d9e6b0fde7158d6a9cb00ad4a48\": 1325788, \"509efd823b2319c9b776de106d7b37313b7ba807\": 1325789, \"be88e07ab7e590d7292e66484d45c3c1a1e56c06\": 1325790, \"40cdda421261916f81dd4cd6d51d393322047392\": 1325791, \"f08e619ac6dd9767b7ae63c3b448f551776583e3\": 1325792, \"e3cc32e1a196a10de375eb59c4d82e4309e24bb4\": 1325793, \"20493dc750e2b8e87c85608d9e15e4cfefba9b79\": 1325794, \"1b30e669fabd90d624621ad1f5e09513e82f0e12\": 1325795, \"4acc34a4a1b178f811cc66ff102b34d2a79cfac3\": 1325796, \"11dbe8904297c8af515c293019ced27fbacf5ab8\": 1325797, \"533c4aaa444e4470eda51ba59212ac5b84345a62\": 1325798, \"3f3d767fd7ebb1abdcc9a6ad14ae5ca6efefcbb0\": 1325799, \"3e0eb2560e31b3d27903fe47b7e48589d357f661\": 1325800, \"1de7d72a79d1a06f54f71601ad330a4954fd5309\": 1325801, \"636020d7accd8d078fa88ebb6065311073c4284e\": 1325802, \"9f9943270d7b3823102d0b052097f66f9f12e33f\": 1325803, \"6dc8cdf7845e0501e14de732b3d86f95f7aac7b5\": 1325804, \"53c80248c60a6efdd569b08f9567d7a1fd8f33bf\": 1325805, \"afb383947051e7a3f300590c68a25ba19ebacb8f\": 1325806, \"ee90d5e1ddda317b931ccc839ef43fceb20298b6\": 1325807, \"db01bad292f8be00371a87cf0d6be841292be86a\": 1325808, \"533e06b8f0bbc7a99d0ec2e7f8acc74a10c9ea8a\": 1325809, \"576c0d9dd93e222ddbc7b3830375d6e8861047ee\": 1325810, \"b27bfe9d2fc0a273d1b35c4fd9274f5df0222c43\": 1325811, \"b3701110b1a709d018b9218ad265517e3df18dd1\": 1325812, \"f9d66c0597ff7b606f896e1d6e51898732bdfda0\": 1325813, \"4c8565db46d9809159614350d06328e2c0bc6dd0\": 1325814, \"3f72f550e38627751e08624ea6602dce2544565e\": 1325815, \"e0ba47be321b740479bfa40161bd688e8a78bab9\": 1325816, \"1d40bd28b69e31779e2979134626d8172e8f9af4\": 1325817, \"ad108dcc8acc5276c984afa4aa24f78279b484a4\": 1325818, \"70c22e838e09380bd025809ea6b0a35307189271\": 1325819, \"155c32a5ebe275daefbd7241091de26dc50305c1\": 1325820, \"a497ecc8a1d6d2eb42312e1b11498067df48abe2\": 1325821, \"453aa0db48dd1b5e2a88d77c614aaa8f70d55f33\": 1325822, \"14e70a2e7b08852a822e398229406cbeed2922b1\": 1325823, \"c7d2efdad49c202f795b8d2b6377b30b5e556017\": 1325824, \"dfd3eac9326ad905b7688cf1d53731a5e2354cd3\": 1325825, \"671db2720b5eeb2869ee03fa0c7926941696da0f\": 1325826, \"74b1f40aacbcfb4dd2ccc051930e8e465b0b223a\": 1325827, \"2e882bb4455d6b043a27b750b484867bf525aa65\": 1325828, \"028aaefa217c93e7d05ccafde56cba48c870664e\": 1325829, \"28897f35afe34a3b90664781870751d7486abf15\": 1325830, \"52f5b9f8c22b7ae15d6a3db7e441fb27de890eec\": 1325831, \"534d65f97e86084dd21435a2e9371eb602e5620e\": 1325832, \"a4af45ab453c2248d40c7381dfb9ea55b8e3ee9b\": 1325833, \"a19b1989962df966bc6d087d2dcdcee2bf721e5a\": 1325834, \"9f71df98b2b6bf8ebbb6dbd624f884702b8d6e9a\": 1325835, \"803ed2c8b74b639a6a027a98d94ff2a148c5006a\": 1325836, \"017390b46df79c1f2562c9340eac07f2e05575c4\": 1325837, \"eabd6f125f1318c7340ac943ff3aa0f715e47791\": 1325838, \"3f6828ddc6c5f891180be05b08a7b708214d471c\": 1325839, \"1c4d7fb86afb64c9b2cf2aeaf275402c1ea92e43\": 1325840, \"99947f992895a5b03ad31da456d5c995c17055e8\": 1325841, \"6f3814df9de0d82a7e7a1a3570dfd612e8396625\": 1325842, \"4d7af77b425afe09b96529fb4bc3225b8a4d5c81\": 1325843, \"596001db8828d6ed76fc3d74b0bcc689074d8e59\": 1325844, \"fa53c9dd91600a50d1638bbf4c8c3c7996cce9d5\": 1325845, \"d3d5dd1684fbc9827df461d2b824923d1f8336e6\": 1325846, \"57fecee103d7469bb622c774b8c58042decb7982\": 1325847, \"3879bffe20bec23a1b42b63e5bcdaa9f2afa5597\": 1325848, \"ceebf402fc8352236674e39a25e6e921370fa1a6\": 1325849, \"a346ad50ab706a1d6d095508ba65f85c12ee4667\": 1325850, \"f8d7e3f21938a5ed473c1471dfc7e56ab39eff12\": 1325851, \"4852a57db8f30e90270b34b4de7c7d75c288d15a\": 1325852, \"dd45ee40cfd2116351b33b4f4889b4767654e4b2\": 1325853, \"86c87d43704f9b059f177998425d2a7c762902eb\": 1325854, \"691fa00798e835ee0fb1a49de90fd0dd28491d95\": 1325855, \"b5cfa2962c9692168989037ef7e8420ba3dfbcad\": 1325856, \"3d4122722a925dbe490fbcb08690a4b6e932b292\": 1325857, \"6f2017ad1c3e17d91340bbd3a776b190311b656f\": 1325858, \"95c44c97b86ccccf1ab03f16d377fc1add894800\": 1325859, \"94923a057c5e91782c42033047bf9f864b9316e3\": 1325860, \"e5f9f0aff64390e7f757730c170ea5951c6ad8be\": 1325861, \"5e4f0060dfc8e038c4975d2381463408b100b5dc\": 1325862, \"10baadf03c2982a4dfed178796fd2de8cf750a5e\": 13258654eb5\": 1325901, \"566a59bf888c4dbf0b320be9cb66c292308ef530\": 1325902, \"8474d432de38649dad5ec8886f89dad1a0aa2ab9\": 1325903, \"41acaf1fa22e9f70bf8019c57e33f32d3dea1f6e\": 1325904, \"da8d17046fee9c3ef8db0a2a6d36d12270af208f\": 1325905, \"e7659d31ca2796530d2c244441e5d5121dafe016\": 1325906, \"52c6b902a8eb3f15321c44023aad1f1fc2fa95dc\": 1325907, \"8a9b25ff2dd88b437666d4a25050dc2fc3b0c273\": 1325908, \"5710a400542ce2229d11cbba409208387fc1c596\": 1325909, \"bae6faea501b991ed5d0a306256fc63f32f18e50\": 1325910, \"f3ce0156b8f86bd25a3506cd14fbf09b8c1f330a\": 1325911, \"f78901a1c77c48ab8cf0129bc21989489e70adb6\": 1325912, \"8bbef9cc22a811576517a40367f04a44d9f46bc2\": 1325913, \"efe6c8cdd723b6a3165fda55cc8f1eb2a7ff935a\": 1325914, \"f37a5669f70fbaa31404555bcfafcb37401d69da\": 1325915, \"2f95dea440c83e40538fcc16330db77d931dd310\": 1325916, \"83a82ba4eec9ae325b27d4b75bc673bb4ad30cf2\": 1325917, \"20412e5f2b6fa9b95865f83b91ecf9ef92ad2272\": 1325918, \"ba2ecd292027c22d61869826c13b3219da9c519c\": 1325919, \"46d2cb2367e97e0bd20aa76e9babb3ed9692160a\": 1325920, \"1954aa683bf14759ca0ac937eab7533e62dfa8d3\": 1325921, \"7b37df076d121e3eae2576c0bb6b95fca4dbd755\": 1325922, \"800cdd07bb22f0349d190eab6eb384e2990ae2c6\": 1325923, \"665e37b01afd588daaa03984eb5ae7d9d4557951\": 1325924, \"95f0271d23c3da03c1ffc7572647aca0d61a2827\": 1325925, \"47839774e1c4ddd95a019dbeed114b4778a78967\": 1325926, \"db486504dff4c3c465ce935822381daf847c2d9f\": 1325927, \"f6fbec0f9115dc5835d52c85fe851ee2f9094682\": 1325928, \"6e3c467ce6ef6858d79b9fe4177ae002baafc822\": 1325929, \"585ed43c2eb8e98bb4db4f316f27f23f26d41d43\": 1325930, \"5cee558af5a025db56540e1e5e02de8ee413609f\": 1325931, \"a84c2b4886f5da07b8f768c79a3b0c6dddd56220\": 1325932, \"98eb56efc8ef1de859f722cfab6e39c456def474\": 1325933, \"20986eeeee86f3cada72b4dc7fbcc7ba9d49c0e4\": 1325934, \"0c8a29fbb2f3b46292ff10742e2ef0de9b970b13\": 1325935, \"cc4159eb591f21fed8065422fdaf92f4de63b951\": 1325936, \"8545f8c3d23242acb8a4d790cee7f6f97ffdf81e\": 1325937, \"f0330d2d31ea5d37afdd68f02f82f47b951770ba\": 1325938, \"3f3fca97c7f802e5739b5678075a694e0a8ace7e\": 1325939, \"74c4e807f7395daff3378f3fcfcb115e3f8051f3\": 1325940, \"25c51da34d3c6836755248c6e516c62553351551\": 1325941, \"ceee71a1be46e278da83c3675934f2f7cd1895b1\": 1325942, \"f2f9342732618ca701c5a29802bdd7a58ba79d09\": 1325943, \"2aa05ca09dec02fca771b0f177fe12b182acc6a4\": 1325944, \"02e7ba64788a368657112f7cad43513c9b8234db\": 1325945, \"2e97e11c6a932ef171af7b7cf76619e2c7a733bf\": 1325946, \"6b54e9a0c246cd04be5be269372b5d3a175a6fd6\": 1325947, \"c3d0a998721be85892051ca9af8adff7bbbe508b\": 1325948, \"21488536008245d43c83087894b21aa6ffe813ed\": 1325949, \"675b402bd488aae006ff9a9dd0951797558b2d6d\": 1325950, \"c4f81bb442b3f91f566e530f43ef4529604926f7\": 1325951, \"d5aff25d496ba720105660dd496d7d8517c03c90\": 1325952, \"986324d226387d43b49c4928fdd12a3e2c7995e9\": 1325953, \"0eea022158fc2b0c24317be8f93023259b7247bf\": 1325954, \"8d2e8ad493f8390c0cb2e2c68e2bce74f96749b0\": 1325955, \"e54c964fe054dd765b9c38cf891dd02ef8085c0a\": 1325956, \"c05e7b2792abe35e98df4370d4c3547b8101a529\": 1325957, \"30c57894cefd53582dee4a1917557e8341ea4004\": 1325958, \"36d936b13aa3e573cb4260ff6f337d91314d3c56\": 1325959, \"ac0cd4280e72c1e09287a6a3ae9edcc28cd96119\": 1325960, \"5928c2ab0261c2e965b62fa708393aa32c9a2eed\": 1325961, \"0336a5c6f0bc57129a132e4e36013a71bd78d4af\": 1325962, \"b23d34575d40fd3535836347821aa0f632a4d1b4\": 1325963, \"82ad8ad499e16bd790d3162d5afd164c6df40861\": 1325964, \"0bf4df1e436e8cb7f2d58363e33d2fc44f016153\": 1325965, \"21fede3f4c10a914af1f2c60ebd8b66ffe3cdfcf\": 1325966, \"8ff5b4a42b7740682895b68759cdf14305f541ff\": 1325967, \"6252f58bd3bae62460114c0cded3d3cd9a766e3f\": 1325968, \"07242b5ef9f8550b964ada868d4f8d88d3261c26\": 1325969, \"fb7ea3bf21269509399e8c4fc33fdb1d31753dc4\": 1325970, \"33eddd45f237ffa9b72d11926aa74dd2207f36fe\": 1325971, \"da3f58cc42cab277e04ce464e993c9efc31feed2\": 1325972, \"1d22244a481a36f5dc84bd4c63b05bf88506cd98\": 1325973, \"e6243a16ea33ac2d77fb0b2ff02b526c34c6f604\": 1325974, \"833beb78feda4880587c2d9727f879e6aa960b9b\": 1325975, \"642665cbfa1303461ad1b0ccd1081ea9c546ce69\": 1325976, \"f5d208bad07713ef8deefb4a701cc273dde8d485\": 1325977, \"0ce90a86f588623cfeb3651b6160fb9e9ea83f20\": 132597^C\n"
    }
   ],
   "source": [
    "! head -n 10 /home/ubuntu/AbstractNet/Data/processed/paperID2emb.json"
   ]
  },
  {
   "cell_type": "code",
   "execution_count": 22,
   "metadata": {
    "tags": []
   },
   "outputs": [
    {
     "output_type": "stream",
     "name": "stdout",
     "text": "\u001b[0m\u001b[01;34mNotebooks\u001b[0m/  \u001b[01;34mTasks\u001b[0m/  \u001b[01;34mTraining\u001b[0m/  \u001b[01;34mapi\u001b[0m/  \u001b[01;34mevaluation\u001b[0m/  \u001b[01;34msimilarity_abstract_search\u001b[0m/\n"
    }
   ],
   "source": [
    "ls .."
   ]
  },
  {
   "cell_type": "code",
   "execution_count": 21,
   "metadata": {},
   "outputs": [],
   "source": [
    "\n",
    "def embProcessing(df, paperID2EmbeddingID):\n",
    "    df['citeEmbeddingsID']=df.totalCitation.map(lambda row: [paperID2EmbeddingID[i] \n",
    "                                        for i in row if paperID2EmbeddingID.get(i)])\n",
    "    df['EmbeddingID'] = df['id'].map(paperID2EmbeddingID) \n",
    "    df = df.loc[:,['EmbeddingID', 'paperAbstract', 'title', 'citeEmbeddingsID']]\n",
    "    return df"
   ]
  },
  {
   "cell_type": "code",
   "execution_count": 22,
   "metadata": {
    "tags": []
   },
   "outputs": [
    {
     "output_type": "stream",
     "name": "stdout",
     "text": "CPU times: user 1.86 s, sys: 5.79 ms, total: 1.86 s\nWall time: 1.86 s\n"
    }
   ],
   "source": [
    "%%time\n",
    "foo = embProcessing(dpf, paperIDemb.to_dict())"
   ]
  },
  {
   "cell_type": "code",
   "execution_count": 23,
   "metadata": {},
   "outputs": [
    {
     "output_type": "execute_result",
     "data": {
      "text/plain": "   EmbeddingID                                      paperAbstract  \\\n0       121272  Abnormally elevated formation and activation o...   \n1       138431  To understand drug combination effect, it is n...   \n2       140766  Effects of 3, 25, 100, 200 and 800 microM Mn o...   \n4        52748  In order to recover without any apparent damag...   \n6        65219  162 Background: Cabazitaxel (Cbz) is a novel t...   \n\n                                               title citeEmbeddingsID  \n0  Inhibitory Effects of KP-A159, a Thiazolopyrid...               []  \n1  Elucidating synergistic dependencies in lung a...          [43241]  \n2  Influence of a high Mn supply on Norway spruce...               []  \n4  DNA damage in storage cells of anhydrobiotic t...          [78649]  \n6  Phase I trial of cabazitaxel plus cisplatin in...               []  ",
      "text/html": "<div>\n<style scoped>\n    .dataframe tbody tr th:only-of-type {\n        vertical-align: middle;\n    }\n\n    .dataframe tbody tr th {\n        vertical-align: top;\n    }\n\n    .dataframe thead th {\n        text-align: right;\n    }\n</style>\n<table border=\"1\" class=\"dataframe\">\n  <thead>\n    <tr style=\"text-align: right;\">\n      <th></th>\n      <th>EmbeddingID</th>\n      <th>paperAbstract</th>\n      <th>title</th>\n      <th>citeEmbeddingsID</th>\n    </tr>\n  </thead>\n  <tbody>\n    <tr>\n      <th>0</th>\n      <td>121272</td>\n      <td>Abnormally elevated formation and activation o...</td>\n      <td>Inhibitory Effects of KP-A159, a Thiazolopyrid...</td>\n      <td>[]</td>\n    </tr>\n    <tr>\n      <th>1</th>\n      <td>138431</td>\n      <td>To understand drug combination effect, it is n...</td>\n      <td>Elucidating synergistic dependencies in lung a...</td>\n      <td>[43241]</td>\n    </tr>\n    <tr>\n      <th>2</th>\n      <td>140766</td>\n      <td>Effects of 3, 25, 100, 200 and 800 microM Mn o...</td>\n      <td>Influence of a high Mn supply on Norway spruce...</td>\n      <td>[]</td>\n    </tr>\n    <tr>\n      <th>4</th>\n      <td>52748</td>\n      <td>In order to recover without any apparent damag...</td>\n      <td>DNA damage in storage cells of anhydrobiotic t...</td>\n      <td>[78649]</td>\n    </tr>\n    <tr>\n      <th>6</th>\n      <td>65219</td>\n      <td>162 Background: Cabazitaxel (Cbz) is a novel t...</td>\n      <td>Phase I trial of cabazitaxel plus cisplatin in...</td>\n      <td>[]</td>\n    </tr>\n  </tbody>\n</table>\n</div>"
     },
     "metadata": {},
     "execution_count": 23
    }
   ],
   "source": [
    "foo.head()"
   ]
  },
  {
   "cell_type": "code",
   "execution_count": null,
   "metadata": {},
   "outputs": [],
   "source": []
  },
  {
   "cell_type": "code",
   "execution_count": null,
   "metadata": {},
   "outputs": [],
   "source": []
  }
 ],
 "metadata": {
  "language_info": {
   "codemirror_mode": {
    "name": "ipython",
    "version": 3
   },
   "file_extension": ".py",
   "mimetype": "text/x-python",
   "name": "python",
   "nbconvert_exporter": "python",
   "pygments_lexer": "ipython3",
   "version": 3
  },
  "orig_nbformat": 2,
  "kernelspec": {
   "name": "python_defaultSpec_1594832272644",
   "display_name": "Python 3.7.7 64-bit ('base': conda)"
  }
 },
 "nbformat": 4,
 "nbformat_minor": 2
}