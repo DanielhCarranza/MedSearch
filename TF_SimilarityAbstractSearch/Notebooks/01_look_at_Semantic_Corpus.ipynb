{
 "cells": [
  {
   "cell_type": "markdown",
   "metadata": {},
   "source": [
    "# Look at Semantic Scholar Courpus Data"
   ]
  },
  {
   "cell_type": "code",
   "execution_count": 1,
   "metadata": {
    "tags": []
   },
   "outputs": [],
   "source": [
    "%load_ext autoreload\n",
    "%autoreload 2\n",
    "\n",
    "%matplotlib inline\n",
    "import matplotlib.pyplot as plt\n",
    "import numpy as np\n",
    "import pandas as pd\n",
    "from pathlib import Path\n",
    "\n",
    "from importlib.util import find_spec\n",
    "if find_spec(\"similarity_abstract_search\") is None:\n",
    "    import sys\n",
    "    sys.path.append('..')\n",
    "    \n",
    "from similarity_abstract_search.datasets.datacleaning import TextDataCleaning \n",
    "from similarity_abstract_search import utils"
   ]
  },
  {
   "cell_type": "code",
   "execution_count": 2,
   "metadata": {},
   "outputs": [],
   "source": [
    "Path.ls = lambda x: list(x.iterdir())"
   ]
  },
  {
   "cell_type": "code",
   "execution_count": 3,
   "metadata": {
    "tags": []
   },
   "outputs": [
    {
     "output_type": "execute_result",
     "data": {
      "text/plain": "[PosixPath('../../Data/processed/SemanticScholarData')]"
     },
     "metadata": {},
     "execution_count": 3
    }
   ],
   "source": [
    "data_dir =  Path('../../Data/processed/')\n",
    "data_dir.ls()\n"
   ]
  },
  {
   "cell_type": "code",
   "execution_count": 4,
   "metadata": {
    "tags": []
   },
   "outputs": [
    {
     "output_type": "stream",
     "name": "stdout",
     "text": "../../Data/processed/SemanticScholarData/pruned168.json.gzip\n"
    },
    {
     "output_type": "execute_result",
     "data": {
      "text/plain": "[PosixPath('../../Data/processed/SemanticScholarData/pruned168.json.gzip'),\n PosixPath('../../Data/processed/SemanticScholarData/pruned076.json.gzip'),\n PosixPath('../../Data/processed/SemanticScholarData/pruned116.json.gzip')]"
     },
     "metadata": {},
     "execution_count": 4
    }
   ],
   "source": [
    "data_fn = (data_dir/'SemanticScholarData').ls()\n",
    "fn = data_fn[0]\n",
    "print(fn)\n",
    "data_fn[:3]"
   ]
  },
  {
   "cell_type": "code",
   "execution_count": 5,
   "metadata": {},
   "outputs": [
    {
     "output_type": "execute_result",
     "data": {
      "text/plain": "PosixPath('/home/ubuntu/AbstractNet/Data')"
     },
     "metadata": {},
     "execution_count": 5
    }
   ],
   "source": [
    "bar = Path('/home/ubuntu/AbstractNet/TF_SimilarityAbstractSearch/similarity_abstract_search/datasets/datacleaning.py')\n",
    "bar.resolve().parents[3]/'Data'"
   ]
  },
  {
   "cell_type": "code",
   "execution_count": 6,
   "metadata": {
    "tags": []
   },
   "outputs": [
    {
     "output_type": "stream",
     "name": "stdout",
     "text": "CPU times: user 1.71 s, sys: 62.9 ms, total: 1.77 s\nWall time: 1.77 s\n"
    }
   ],
   "source": [
    "%%time\n",
    "inner_path = str(data_dir/'SemanticScholarData')\n",
    "data_cleaning = TextDataCleaning(inner_path, data_fn)\n"
   ]
  },
  {
   "cell_type": "code",
   "execution_count": null,
   "metadata": {},
   "outputs": [],
   "source": [
    "data_cleaning.concat_files()"
   ]
  },
  {
   "cell_type": "code",
   "execution_count": 7,
   "metadata": {},
   "outputs": [
    {
     "output_type": "execute_result",
     "data": {
      "text/plain": "                                         id  \\\n0  742974499051673f32c20825a55fdb9c78952bf4   \n1  df366bfedb4dde13f4cf25220d353343e0f6cb93   \n2  4449b606c9f8df8ff5bbb035dad438d63eb493a7   \n3  d6fcd5902879f79b54042567a86f1e228edb748c   \n4  14dc13730775e2743d0be28dc109b42f6df5c0d0   \n\n                                       paperAbstract  \\\n0  Abnormally elevated formation and activation o...   \n1  To understand drug combination effect, it is n...   \n2  Effects of 3, 25, 100, 200 and 800 microM Mn o...   \n3  We investigated the tissue concentration of si...   \n4  In order to recover without any apparent damag...   \n\n                                               title  \\\n0  Inhibitory Effects of KP-A159, a Thiazolopyrid...   \n1  Elucidating synergistic dependencies in lung a...   \n2  Influence of a high Mn supply on Norway spruce...   \n3  Tissue sialic acid and fibronectin levels in h...   \n4  DNA damage in storage cells of anhydrobiotic t...   \n\n                                         journalName  \\\n0                                                      \n1                                           PLoS ONE   \n2                                    Tree physiology   \n3                                     Cancer letters   \n4  Comparative biochemistry and physiology. Part ...   \n\n                                               venue  \\\n0                                           PloS one   \n1                                           PloS one   \n2                                    Tree physiology   \n3                                     Cancer letters   \n4  Comparative biochemistry and physiology. Part ...   \n\n                                       totalCitation  \n0  [8ea62a4270f632c14c38f35c2cef214f9ec51f6d, 0b5...  \n1  [069dbe4aeeef2e628536c0c009c01a08bd25387b, e81...  \n2  [e1e7a4954de96cb6e2d7a984261bb28a8a2371d8, 016...  \n3  [35b17bd3457c1eb312877ad0ed3a5dfe767e0e1e, fc2...  \n4  [9478094aaa869a892c1a6a1963758ac6472d9d4f, a28...  ",
      "text/html": "<div>\n<style scoped>\n    .dataframe tbody tr th:only-of-type {\n        vertical-align: middle;\n    }\n\n    .dataframe tbody tr th {\n        vertical-align: top;\n    }\n\n    .dataframe thead th {\n        text-align: right;\n    }\n</style>\n<table border=\"1\" class=\"dataframe\">\n  <thead>\n    <tr style=\"text-align: right;\">\n      <th></th>\n      <th>id</th>\n      <th>paperAbstract</th>\n      <th>title</th>\n      <th>journalName</th>\n      <th>venue</th>\n      <th>totalCitation</th>\n    </tr>\n  </thead>\n  <tbody>\n    <tr>\n      <th>0</th>\n      <td>742974499051673f32c20825a55fdb9c78952bf4</td>\n      <td>Abnormally elevated formation and activation o...</td>\n      <td>Inhibitory Effects of KP-A159, a Thiazolopyrid...</td>\n      <td></td>\n      <td>PloS one</td>\n      <td>[8ea62a4270f632c14c38f35c2cef214f9ec51f6d, 0b5...</td>\n    </tr>\n    <tr>\n      <th>1</th>\n      <td>df366bfedb4dde13f4cf25220d353343e0f6cb93</td>\n      <td>To understand drug combination effect, it is n...</td>\n      <td>Elucidating synergistic dependencies in lung a...</td>\n      <td>PLoS ONE</td>\n      <td>PloS one</td>\n      <td>[069dbe4aeeef2e628536c0c009c01a08bd25387b, e81...</td>\n    </tr>\n    <tr>\n      <th>2</th>\n      <td>4449b606c9f8df8ff5bbb035dad438d63eb493a7</td>\n      <td>Effects of 3, 25, 100, 200 and 800 microM Mn o...</td>\n      <td>Influence of a high Mn supply on Norway spruce...</td>\n      <td>Tree physiology</td>\n      <td>Tree physiology</td>\n      <td>[e1e7a4954de96cb6e2d7a984261bb28a8a2371d8, 016...</td>\n    </tr>\n    <tr>\n      <th>3</th>\n      <td>d6fcd5902879f79b54042567a86f1e228edb748c</td>\n      <td>We investigated the tissue concentration of si...</td>\n      <td>Tissue sialic acid and fibronectin levels in h...</td>\n      <td>Cancer letters</td>\n      <td>Cancer letters</td>\n      <td>[35b17bd3457c1eb312877ad0ed3a5dfe767e0e1e, fc2...</td>\n    </tr>\n    <tr>\n      <th>4</th>\n      <td>14dc13730775e2743d0be28dc109b42f6df5c0d0</td>\n      <td>In order to recover without any apparent damag...</td>\n      <td>DNA damage in storage cells of anhydrobiotic t...</td>\n      <td>Comparative biochemistry and physiology. Part ...</td>\n      <td>Comparative biochemistry and physiology. Part ...</td>\n      <td>[9478094aaa869a892c1a6a1963758ac6472d9d4f, a28...</td>\n    </tr>\n  </tbody>\n</table>\n</div>"
     },
     "metadata": {},
     "execution_count": 7
    }
   ],
   "source": [
    "df =utils.get_raw_json_data(fn)\n",
    "df.head()"
   ]
  },
  {
   "cell_type": "code",
   "execution_count": 9,
   "metadata": {
    "tags": []
   },
   "outputs": [
    {
     "output_type": "stream",
     "name": "stdout",
     "text": "../../Data/processed/SemanticScholarData/s2-corpus-006.json\n../../Data/processed/SemanticScholarData/s2-corpus-182.json\nCPU times: user 7min 29s, sys: 3min 25s, total: 10min 55s\nWall time: 3min 36s\n"
    }
   ],
   "source": [
    "# %%time\n",
    "# data_cleaning.pruning_and_cleaning(data_dir)"
   ]
  },
  {
   "cell_type": "code",
   "execution_count": 10,
   "metadata": {},
   "outputs": [
    {
     "output_type": "execute_result",
     "data": {
      "text/plain": "[PosixPath('../../Data/processed/pruned006.json.gzip'),\n PosixPath('../../Data/processed/paper_set.txt'),\n PosixPath('../../Data/processed/SemanticScholarData'),\n PosixPath('../../Data/processed/manifest.txt'),\n PosixPath('../../Data/processed/pruned182.json.gzip')]"
     },
     "metadata": {},
     "execution_count": 10
    }
   ],
   "source": [
    "data_dir.ls()"
   ]
  },
  {
   "cell_type": "code",
   "execution_count": 25,
   "metadata": {},
   "outputs": [
    {
     "output_type": "execute_result",
     "data": {
      "text/plain": "[]"
     },
     "metadata": {},
     "execution_count": 25
    }
   ],
   "source": [
    "pfiles = [pf for pf in data_dir.ls() if 'pruned' in str(pf) ]\n",
    "pfiles"
   ]
  },
  {
   "cell_type": "code",
   "execution_count": 24,
   "metadata": {
    "tags": []
   },
   "outputs": [
    {
     "output_type": "error",
     "ename": "FileNotFoundError",
     "evalue": "[Errno 2] No such file or directory: '../../Data/processed/../../Data/processed/pruned006.json.gzip'",
     "traceback": [
      "\u001b[0;31m---------------------------------------------------------------------------\u001b[0m",
      "\u001b[0;31mFileNotFoundError\u001b[0m                         Traceback (most recent call last)",
      "\u001b[0;32m<timed exec>\u001b[0m in \u001b[0;36m<module>\u001b[0;34m\u001b[0m\n",
      "\u001b[0;32m~/anaconda3/lib/python3.7/site-packages/pandas/core/reshape/concat.py\u001b[0m in \u001b[0;36mconcat\u001b[0;34m(objs, axis, join, ignore_index, keys, levels, names, verify_integrity, sort, copy)\u001b[0m\n\u001b[1;32m    279\u001b[0m         \u001b[0mverify_integrity\u001b[0m\u001b[0;34m=\u001b[0m\u001b[0mverify_integrity\u001b[0m\u001b[0;34m,\u001b[0m\u001b[0;34m\u001b[0m\u001b[0;34m\u001b[0m\u001b[0m\n\u001b[1;32m    280\u001b[0m         \u001b[0mcopy\u001b[0m\u001b[0;34m=\u001b[0m\u001b[0mcopy\u001b[0m\u001b[0;34m,\u001b[0m\u001b[0;34m\u001b[0m\u001b[0;34m\u001b[0m\u001b[0m\n\u001b[0;32m--> 281\u001b[0;31m         \u001b[0msort\u001b[0m\u001b[0;34m=\u001b[0m\u001b[0msort\u001b[0m\u001b[0;34m,\u001b[0m\u001b[0;34m\u001b[0m\u001b[0;34m\u001b[0m\u001b[0m\n\u001b[0m\u001b[1;32m    282\u001b[0m     )\n\u001b[1;32m    283\u001b[0m \u001b[0;34m\u001b[0m\u001b[0m\n",
      "\u001b[0;32m~/anaconda3/lib/python3.7/site-packages/pandas/core/reshape/concat.py\u001b[0m in \u001b[0;36m__init__\u001b[0;34m(self, objs, axis, join, keys, levels, names, ignore_index, verify_integrity, copy, sort)\u001b[0m\n\u001b[1;32m    324\u001b[0m             \u001b[0mobjs\u001b[0m \u001b[0;34m=\u001b[0m \u001b[0;34m[\u001b[0m\u001b[0mobjs\u001b[0m\u001b[0;34m[\u001b[0m\u001b[0mk\u001b[0m\u001b[0;34m]\u001b[0m \u001b[0;32mfor\u001b[0m \u001b[0mk\u001b[0m \u001b[0;32min\u001b[0m \u001b[0mkeys\u001b[0m\u001b[0;34m]\u001b[0m\u001b[0;34m\u001b[0m\u001b[0;34m\u001b[0m\u001b[0m\n\u001b[1;32m    325\u001b[0m         \u001b[0;32melse\u001b[0m\u001b[0;34m:\u001b[0m\u001b[0;34m\u001b[0m\u001b[0;34m\u001b[0m\u001b[0m\n\u001b[0;32m--> 326\u001b[0;31m             \u001b[0mobjs\u001b[0m \u001b[0;34m=\u001b[0m \u001b[0mlist\u001b[0m\u001b[0;34m(\u001b[0m\u001b[0mobjs\u001b[0m\u001b[0;34m)\u001b[0m\u001b[0;34m\u001b[0m\u001b[0;34m\u001b[0m\u001b[0m\n\u001b[0m\u001b[1;32m    327\u001b[0m \u001b[0;34m\u001b[0m\u001b[0m\n\u001b[1;32m    328\u001b[0m         \u001b[0;32mif\u001b[0m \u001b[0mlen\u001b[0m\u001b[0;34m(\u001b[0m\u001b[0mobjs\u001b[0m\u001b[0;34m)\u001b[0m \u001b[0;34m==\u001b[0m \u001b[0;36m0\u001b[0m\u001b[0;34m:\u001b[0m\u001b[0;34m\u001b[0m\u001b[0;34m\u001b[0m\u001b[0m\n",
      "\u001b[0;32m<timed exec>\u001b[0m in \u001b[0;36m<genexpr>\u001b[0;34m(.0)\u001b[0m\n",
      "\u001b[0;32m~/anaconda3/lib/python3.7/site-packages/pandas/util/_decorators.py\u001b[0m in \u001b[0;36mwrapper\u001b[0;34m(*args, **kwargs)\u001b[0m\n\u001b[1;32m    212\u001b[0m                 \u001b[0;32melse\u001b[0m\u001b[0;34m:\u001b[0m\u001b[0;34m\u001b[0m\u001b[0;34m\u001b[0m\u001b[0m\n\u001b[1;32m    213\u001b[0m                     \u001b[0mkwargs\u001b[0m\u001b[0;34m[\u001b[0m\u001b[0mnew_arg_name\u001b[0m\u001b[0;34m]\u001b[0m \u001b[0;34m=\u001b[0m \u001b[0mnew_arg_value\u001b[0m\u001b[0;34m\u001b[0m\u001b[0;34m\u001b[0m\u001b[0m\n\u001b[0;32m--> 214\u001b[0;31m             \u001b[0;32mreturn\u001b[0m \u001b[0mfunc\u001b[0m\u001b[0;34m(\u001b[0m\u001b[0;34m*\u001b[0m\u001b[0margs\u001b[0m\u001b[0;34m,\u001b[0m \u001b[0;34m**\u001b[0m\u001b[0mkwargs\u001b[0m\u001b[0;34m)\u001b[0m\u001b[0;34m\u001b[0m\u001b[0;34m\u001b[0m\u001b[0m\n\u001b[0m\u001b[1;32m    215\u001b[0m \u001b[0;34m\u001b[0m\u001b[0m\n\u001b[1;32m    216\u001b[0m         \u001b[0;32mreturn\u001b[0m \u001b[0mcast\u001b[0m\u001b[0;34m(\u001b[0m\u001b[0mF\u001b[0m\u001b[0;34m,\u001b[0m \u001b[0mwrapper\u001b[0m\u001b[0;34m)\u001b[0m\u001b[0;34m\u001b[0m\u001b[0;34m\u001b[0m\u001b[0m\n",
      "\u001b[0;32m~/anaconda3/lib/python3.7/site-packages/pandas/io/json/_json.py\u001b[0m in \u001b[0;36mread_json\u001b[0;34m(path_or_buf, orient, typ, dtype, convert_axes, convert_dates, keep_default_dates, numpy, precise_float, date_unit, encoding, lines, chunksize, compression)\u001b[0m\n\u001b[1;32m    600\u001b[0m         \u001b[0mlines\u001b[0m\u001b[0;34m=\u001b[0m\u001b[0mlines\u001b[0m\u001b[0;34m,\u001b[0m\u001b[0;34m\u001b[0m\u001b[0;34m\u001b[0m\u001b[0m\n\u001b[1;32m    601\u001b[0m         \u001b[0mchunksize\u001b[0m\u001b[0;34m=\u001b[0m\u001b[0mchunksize\u001b[0m\u001b[0;34m,\u001b[0m\u001b[0;34m\u001b[0m\u001b[0;34m\u001b[0m\u001b[0m\n\u001b[0;32m--> 602\u001b[0;31m         \u001b[0mcompression\u001b[0m\u001b[0;34m=\u001b[0m\u001b[0mcompression\u001b[0m\u001b[0;34m,\u001b[0m\u001b[0;34m\u001b[0m\u001b[0;34m\u001b[0m\u001b[0m\n\u001b[0m\u001b[1;32m    603\u001b[0m     )\n\u001b[1;32m    604\u001b[0m \u001b[0;34m\u001b[0m\u001b[0m\n",
      "\u001b[0;32m~/anaconda3/lib/python3.7/site-packages/pandas/io/json/_json.py\u001b[0m in \u001b[0;36m__init__\u001b[0;34m(self, filepath_or_buffer, orient, typ, dtype, convert_axes, convert_dates, keep_default_dates, numpy, precise_float, date_unit, encoding, lines, chunksize, compression)\u001b[0m\n\u001b[1;32m    662\u001b[0m                 \u001b[0;32mraise\u001b[0m \u001b[0mValueError\u001b[0m\u001b[0;34m(\u001b[0m\u001b[0;34m\"chunksize can only be passed if lines=True\"\u001b[0m\u001b[0;34m)\u001b[0m\u001b[0;34m\u001b[0m\u001b[0;34m\u001b[0m\u001b[0m\n\u001b[1;32m    663\u001b[0m \u001b[0;34m\u001b[0m\u001b[0m\n\u001b[0;32m--> 664\u001b[0;31m         \u001b[0mdata\u001b[0m \u001b[0;34m=\u001b[0m \u001b[0mself\u001b[0m\u001b[0;34m.\u001b[0m\u001b[0m_get_data_from_filepath\u001b[0m\u001b[0;34m(\u001b[0m\u001b[0mfilepath_or_buffer\u001b[0m\u001b[0;34m)\u001b[0m\u001b[0;34m\u001b[0m\u001b[0;34m\u001b[0m\u001b[0m\n\u001b[0m\u001b[1;32m    665\u001b[0m         \u001b[0mself\u001b[0m\u001b[0;34m.\u001b[0m\u001b[0mdata\u001b[0m \u001b[0;34m=\u001b[0m \u001b[0mself\u001b[0m\u001b[0;34m.\u001b[0m\u001b[0m_preprocess_data\u001b[0m\u001b[0;34m(\u001b[0m\u001b[0mdata\u001b[0m\u001b[0;34m)\u001b[0m\u001b[0;34m\u001b[0m\u001b[0;34m\u001b[0m\u001b[0m\n\u001b[1;32m    666\u001b[0m \u001b[0;34m\u001b[0m\u001b[0m\n",
      "\u001b[0;32m~/anaconda3/lib/python3.7/site-packages/pandas/io/json/_json.py\u001b[0m in \u001b[0;36m_get_data_from_filepath\u001b[0;34m(self, filepath_or_buffer)\u001b[0m\n\u001b[1;32m    705\u001b[0m                 \u001b[0;34m\"r\"\u001b[0m\u001b[0;34m,\u001b[0m\u001b[0;34m\u001b[0m\u001b[0;34m\u001b[0m\u001b[0m\n\u001b[1;32m    706\u001b[0m                 \u001b[0mencoding\u001b[0m\u001b[0;34m=\u001b[0m\u001b[0mself\u001b[0m\u001b[0;34m.\u001b[0m\u001b[0mencoding\u001b[0m\u001b[0;34m,\u001b[0m\u001b[0;34m\u001b[0m\u001b[0;34m\u001b[0m\u001b[0m\n\u001b[0;32m--> 707\u001b[0;31m                 \u001b[0mcompression\u001b[0m\u001b[0;34m=\u001b[0m\u001b[0mself\u001b[0m\u001b[0;34m.\u001b[0m\u001b[0mcompression\u001b[0m\u001b[0;34m,\u001b[0m\u001b[0;34m\u001b[0m\u001b[0;34m\u001b[0m\u001b[0m\n\u001b[0m\u001b[1;32m    708\u001b[0m             )\n\u001b[1;32m    709\u001b[0m             \u001b[0mself\u001b[0m\u001b[0;34m.\u001b[0m\u001b[0mshould_close\u001b[0m \u001b[0;34m=\u001b[0m \u001b[0;32mTrue\u001b[0m\u001b[0;34m\u001b[0m\u001b[0;34m\u001b[0m\u001b[0m\n",
      "\u001b[0;32m~/anaconda3/lib/python3.7/site-packages/pandas/io/common.py\u001b[0m in \u001b[0;36mget_handle\u001b[0;34m(path_or_buf, mode, encoding, compression, memory_map, is_text)\u001b[0m\n\u001b[1;32m    382\u001b[0m         \u001b[0;32mif\u001b[0m \u001b[0mcompression\u001b[0m \u001b[0;34m==\u001b[0m \u001b[0;34m\"gzip\"\u001b[0m\u001b[0;34m:\u001b[0m\u001b[0;34m\u001b[0m\u001b[0;34m\u001b[0m\u001b[0m\n\u001b[1;32m    383\u001b[0m             \u001b[0;32mif\u001b[0m \u001b[0mis_path\u001b[0m\u001b[0;34m:\u001b[0m\u001b[0;34m\u001b[0m\u001b[0;34m\u001b[0m\u001b[0m\n\u001b[0;32m--> 384\u001b[0;31m                 \u001b[0mf\u001b[0m \u001b[0;34m=\u001b[0m \u001b[0mgzip\u001b[0m\u001b[0;34m.\u001b[0m\u001b[0mopen\u001b[0m\u001b[0;34m(\u001b[0m\u001b[0mpath_or_buf\u001b[0m\u001b[0;34m,\u001b[0m \u001b[0mmode\u001b[0m\u001b[0;34m)\u001b[0m\u001b[0;34m\u001b[0m\u001b[0;34m\u001b[0m\u001b[0m\n\u001b[0m\u001b[1;32m    385\u001b[0m             \u001b[0;32melse\u001b[0m\u001b[0;34m:\u001b[0m\u001b[0;34m\u001b[0m\u001b[0;34m\u001b[0m\u001b[0m\n\u001b[1;32m    386\u001b[0m                 \u001b[0mf\u001b[0m \u001b[0;34m=\u001b[0m \u001b[0mgzip\u001b[0m\u001b[0;34m.\u001b[0m\u001b[0mGzipFile\u001b[0m\u001b[0;34m(\u001b[0m\u001b[0mfileobj\u001b[0m\u001b[0;34m=\u001b[0m\u001b[0mpath_or_buf\u001b[0m\u001b[0;34m)\u001b[0m\u001b[0;34m\u001b[0m\u001b[0;34m\u001b[0m\u001b[0m\n",
      "\u001b[0;32m~/anaconda3/lib/python3.7/gzip.py\u001b[0m in \u001b[0;36mopen\u001b[0;34m(filename, mode, compresslevel, encoding, errors, newline)\u001b[0m\n\u001b[1;32m     56\u001b[0m     \u001b[0mgz_mode\u001b[0m \u001b[0;34m=\u001b[0m \u001b[0mmode\u001b[0m\u001b[0;34m.\u001b[0m\u001b[0mreplace\u001b[0m\u001b[0;34m(\u001b[0m\u001b[0;34m\"t\"\u001b[0m\u001b[0;34m,\u001b[0m \u001b[0;34m\"\"\u001b[0m\u001b[0;34m)\u001b[0m\u001b[0;34m\u001b[0m\u001b[0;34m\u001b[0m\u001b[0m\n\u001b[1;32m     57\u001b[0m     \u001b[0;32mif\u001b[0m \u001b[0misinstance\u001b[0m\u001b[0;34m(\u001b[0m\u001b[0mfilename\u001b[0m\u001b[0;34m,\u001b[0m \u001b[0;34m(\u001b[0m\u001b[0mstr\u001b[0m\u001b[0;34m,\u001b[0m \u001b[0mbytes\u001b[0m\u001b[0;34m,\u001b[0m \u001b[0mos\u001b[0m\u001b[0;34m.\u001b[0m\u001b[0mPathLike\u001b[0m\u001b[0;34m)\u001b[0m\u001b[0;34m)\u001b[0m\u001b[0;34m:\u001b[0m\u001b[0;34m\u001b[0m\u001b[0;34m\u001b[0m\u001b[0m\n\u001b[0;32m---> 58\u001b[0;31m         \u001b[0mbinary_file\u001b[0m \u001b[0;34m=\u001b[0m \u001b[0mGzipFile\u001b[0m\u001b[0;34m(\u001b[0m\u001b[0mfilename\u001b[0m\u001b[0;34m,\u001b[0m \u001b[0mgz_mode\u001b[0m\u001b[0;34m,\u001b[0m \u001b[0mcompresslevel\u001b[0m\u001b[0;34m)\u001b[0m\u001b[0;34m\u001b[0m\u001b[0;34m\u001b[0m\u001b[0m\n\u001b[0m\u001b[1;32m     59\u001b[0m     \u001b[0;32melif\u001b[0m \u001b[0mhasattr\u001b[0m\u001b[0;34m(\u001b[0m\u001b[0mfilename\u001b[0m\u001b[0;34m,\u001b[0m \u001b[0;34m\"read\"\u001b[0m\u001b[0;34m)\u001b[0m \u001b[0;32mor\u001b[0m \u001b[0mhasattr\u001b[0m\u001b[0;34m(\u001b[0m\u001b[0mfilename\u001b[0m\u001b[0;34m,\u001b[0m \u001b[0;34m\"write\"\u001b[0m\u001b[0;34m)\u001b[0m\u001b[0;34m:\u001b[0m\u001b[0;34m\u001b[0m\u001b[0;34m\u001b[0m\u001b[0m\n\u001b[1;32m     60\u001b[0m         \u001b[0mbinary_file\u001b[0m \u001b[0;34m=\u001b[0m \u001b[0mGzipFile\u001b[0m\u001b[0;34m(\u001b[0m\u001b[0;32mNone\u001b[0m\u001b[0;34m,\u001b[0m \u001b[0mgz_mode\u001b[0m\u001b[0;34m,\u001b[0m \u001b[0mcompresslevel\u001b[0m\u001b[0;34m,\u001b[0m \u001b[0mfilename\u001b[0m\u001b[0;34m)\u001b[0m\u001b[0;34m\u001b[0m\u001b[0;34m\u001b[0m\u001b[0m\n",
      "\u001b[0;32m~/anaconda3/lib/python3.7/gzip.py\u001b[0m in \u001b[0;36m__init__\u001b[0;34m(self, filename, mode, compresslevel, fileobj, mtime)\u001b[0m\n\u001b[1;32m    166\u001b[0m             \u001b[0mmode\u001b[0m \u001b[0;34m+=\u001b[0m \u001b[0;34m'b'\u001b[0m\u001b[0;34m\u001b[0m\u001b[0;34m\u001b[0m\u001b[0m\n\u001b[1;32m    167\u001b[0m         \u001b[0;32mif\u001b[0m \u001b[0mfileobj\u001b[0m \u001b[0;32mis\u001b[0m \u001b[0;32mNone\u001b[0m\u001b[0;34m:\u001b[0m\u001b[0;34m\u001b[0m\u001b[0;34m\u001b[0m\u001b[0m\n\u001b[0;32m--> 168\u001b[0;31m             \u001b[0mfileobj\u001b[0m \u001b[0;34m=\u001b[0m \u001b[0mself\u001b[0m\u001b[0;34m.\u001b[0m\u001b[0mmyfileobj\u001b[0m \u001b[0;34m=\u001b[0m \u001b[0mbuiltins\u001b[0m\u001b[0;34m.\u001b[0m\u001b[0mopen\u001b[0m\u001b[0;34m(\u001b[0m\u001b[0mfilename\u001b[0m\u001b[0;34m,\u001b[0m \u001b[0mmode\u001b[0m \u001b[0;32mor\u001b[0m \u001b[0;34m'rb'\u001b[0m\u001b[0;34m)\u001b[0m\u001b[0;34m\u001b[0m\u001b[0;34m\u001b[0m\u001b[0m\n\u001b[0m\u001b[1;32m    169\u001b[0m         \u001b[0;32mif\u001b[0m \u001b[0mfilename\u001b[0m \u001b[0;32mis\u001b[0m \u001b[0;32mNone\u001b[0m\u001b[0;34m:\u001b[0m\u001b[0;34m\u001b[0m\u001b[0;34m\u001b[0m\u001b[0m\n\u001b[1;32m    170\u001b[0m             \u001b[0mfilename\u001b[0m \u001b[0;34m=\u001b[0m \u001b[0mgetattr\u001b[0m\u001b[0;34m(\u001b[0m\u001b[0mfileobj\u001b[0m\u001b[0;34m,\u001b[0m \u001b[0;34m'name'\u001b[0m\u001b[0;34m,\u001b[0m \u001b[0;34m''\u001b[0m\u001b[0;34m)\u001b[0m\u001b[0;34m\u001b[0m\u001b[0;34m\u001b[0m\u001b[0m\n",
      "\u001b[0;31mFileNotFoundError\u001b[0m: [Errno 2] No such file or directory: '../../Data/processed/../../Data/processed/pruned006.json.gzip'"
     ]
    }
   ],
   "source": [
    "%%time\n",
    "dpf = pd.concat((pd.read_json(data_dir/fn, compression='gzip', orient='index') for fn in pfiles))"
   ]
  },
  {
   "cell_type": "code",
   "execution_count": 19,
   "metadata": {},
   "outputs": [
    {
     "output_type": "execute_result",
     "data": {
      "text/plain": "                                         id  \\\n0  742974499051673f32c20825a55fdb9c78952bf4   \n1  df366bfedb4dde13f4cf25220d353343e0f6cb93   \n2  4449b606c9f8df8ff5bbb035dad438d63eb493a7   \n4  14dc13730775e2743d0be28dc109b42f6df5c0d0   \n6  e47185d7760ac0556330f389ae0fe77921c05fd9   \n\n                                       paperAbstract  \\\n0  Abnormally elevated formation and activation o...   \n1  To understand drug combination effect, it is n...   \n2  Effects of 3, 25, 100, 200 and 800 microM Mn o...   \n4  In order to recover without any apparent damag...   \n6  162 Background: Cabazitaxel (Cbz) is a novel t...   \n\n                                               title  \\\n0  Inhibitory Effects of KP-A159, a Thiazolopyrid...   \n1  Elucidating synergistic dependencies in lung a...   \n2  Influence of a high Mn supply on Norway spruce...   \n4  DNA damage in storage cells of anhydrobiotic t...   \n6  Phase I trial of cabazitaxel plus cisplatin in...   \n\n                                       totalCitation  \n0  [8ea62a4270f632c14c38f35c2cef214f9ec51f6d, 0b5...  \n1  [069dbe4aeeef2e628536c0c009c01a08bd25387b, e81...  \n2  [e1e7a4954de96cb6e2d7a984261bb28a8a2371d8, 016...  \n4  [9478094aaa869a892c1a6a1963758ac6472d9d4f, a28...  \n6  [ca475f855ddd995c2e3bd57471ccbd1a6c51a22b, 7ee...  ",
      "text/html": "<div>\n<style scoped>\n    .dataframe tbody tr th:only-of-type {\n        vertical-align: middle;\n    }\n\n    .dataframe tbody tr th {\n        vertical-align: top;\n    }\n\n    .dataframe thead th {\n        text-align: right;\n    }\n</style>\n<table border=\"1\" class=\"dataframe\">\n  <thead>\n    <tr style=\"text-align: right;\">\n      <th></th>\n      <th>id</th>\n      <th>paperAbstract</th>\n      <th>title</th>\n      <th>totalCitation</th>\n    </tr>\n  </thead>\n  <tbody>\n    <tr>\n      <th>0</th>\n      <td>742974499051673f32c20825a55fdb9c78952bf4</td>\n      <td>Abnormally elevated formation and activation o...</td>\n      <td>Inhibitory Effects of KP-A159, a Thiazolopyrid...</td>\n      <td>[8ea62a4270f632c14c38f35c2cef214f9ec51f6d, 0b5...</td>\n    </tr>\n    <tr>\n      <th>1</th>\n      <td>df366bfedb4dde13f4cf25220d353343e0f6cb93</td>\n      <td>To understand drug combination effect, it is n...</td>\n      <td>Elucidating synergistic dependencies in lung a...</td>\n      <td>[069dbe4aeeef2e628536c0c009c01a08bd25387b, e81...</td>\n    </tr>\n    <tr>\n      <th>2</th>\n      <td>4449b606c9f8df8ff5bbb035dad438d63eb493a7</td>\n      <td>Effects of 3, 25, 100, 200 and 800 microM Mn o...</td>\n      <td>Influence of a high Mn supply on Norway spruce...</td>\n      <td>[e1e7a4954de96cb6e2d7a984261bb28a8a2371d8, 016...</td>\n    </tr>\n    <tr>\n      <th>4</th>\n      <td>14dc13730775e2743d0be28dc109b42f6df5c0d0</td>\n      <td>In order to recover without any apparent damag...</td>\n      <td>DNA damage in storage cells of anhydrobiotic t...</td>\n      <td>[9478094aaa869a892c1a6a1963758ac6472d9d4f, a28...</td>\n    </tr>\n    <tr>\n      <th>6</th>\n      <td>e47185d7760ac0556330f389ae0fe77921c05fd9</td>\n      <td>162 Background: Cabazitaxel (Cbz) is a novel t...</td>\n      <td>Phase I trial of cabazitaxel plus cisplatin in...</td>\n      <td>[ca475f855ddd995c2e3bd57471ccbd1a6c51a22b, 7ee...</td>\n    </tr>\n  </tbody>\n</table>\n</div>"
     },
     "metadata": {},
     "execution_count": 19
    }
   ],
   "source": [
    "dpf.head()"
   ]
  },
  {
   "cell_type": "code",
   "execution_count": 22,
   "metadata": {
    "tags": []
   },
   "outputs": [
    {
     "output_type": "stream",
     "name": "stdout",
     "text": "\u001b[0m\u001b[01;34mNotebooks\u001b[0m/  \u001b[01;34mTasks\u001b[0m/  \u001b[01;34mTraining\u001b[0m/  \u001b[01;34mapi\u001b[0m/  \u001b[01;34mevaluation\u001b[0m/  \u001b[01;34msimilarity_abstract_search\u001b[0m/\n"
    }
   ],
   "source": [
    "ls .."
   ]
  },
  {
   "cell_type": "code",
   "execution_count": 21,
   "metadata": {},
   "outputs": [],
   "source": [
    "\n",
    "def embProcessing(df, paperID2EmbeddingID):\n",
    "    df['citeEmbeddingsID']=df.totalCitation.map(lambda row: [paperID2EmbeddingID[i] \n",
    "                                        for i in row if paperID2EmbeddingID.get(i)])\n",
    "    df['EmbeddingID'] = df['id'].map(paperID2EmbeddingID) \n",
    "    df = df.loc[:,['EmbeddingID', 'paperAbstract', 'title', 'citeEmbeddingsID']]\n",
    "    return df"
   ]
  },
  {
   "cell_type": "code",
   "execution_count": 22,
   "metadata": {
    "tags": []
   },
   "outputs": [
    {
     "output_type": "stream",
     "name": "stdout",
     "text": "CPU times: user 1.86 s, sys: 5.79 ms, total: 1.86 s\nWall time: 1.86 s\n"
    }
   ],
   "source": [
    "%%time\n",
    "foo = embProcessing(dpf, paperIDemb.to_dict())"
   ]
  },
  {
   "cell_type": "code",
   "execution_count": 23,
   "metadata": {},
   "outputs": [
    {
     "output_type": "execute_result",
     "data": {
      "text/plain": "   EmbeddingID                                      paperAbstract  \\\n0       121272  Abnormally elevated formation and activation o...   \n1       138431  To understand drug combination effect, it is n...   \n2       140766  Effects of 3, 25, 100, 200 and 800 microM Mn o...   \n4        52748  In order to recover without any apparent damag...   \n6        65219  162 Background: Cabazitaxel (Cbz) is a novel t...   \n\n                                               title citeEmbeddingsID  \n0  Inhibitory Effects of KP-A159, a Thiazolopyrid...               []  \n1  Elucidating synergistic dependencies in lung a...          [43241]  \n2  Influence of a high Mn supply on Norway spruce...               []  \n4  DNA damage in storage cells of anhydrobiotic t...          [78649]  \n6  Phase I trial of cabazitaxel plus cisplatin in...               []  ",
      "text/html": "<div>\n<style scoped>\n    .dataframe tbody tr th:only-of-type {\n        vertical-align: middle;\n    }\n\n    .dataframe tbody tr th {\n        vertical-align: top;\n    }\n\n    .dataframe thead th {\n        text-align: right;\n    }\n</style>\n<table border=\"1\" class=\"dataframe\">\n  <thead>\n    <tr style=\"text-align: right;\">\n      <th></th>\n      <th>EmbeddingID</th>\n      <th>paperAbstract</th>\n      <th>title</th>\n      <th>citeEmbeddingsID</th>\n    </tr>\n  </thead>\n  <tbody>\n    <tr>\n      <th>0</th>\n      <td>121272</td>\n      <td>Abnormally elevated formation and activation o...</td>\n      <td>Inhibitory Effects of KP-A159, a Thiazolopyrid...</td>\n      <td>[]</td>\n    </tr>\n    <tr>\n      <th>1</th>\n      <td>138431</td>\n      <td>To understand drug combination effect, it is n...</td>\n      <td>Elucidating synergistic dependencies in lung a...</td>\n      <td>[43241]</td>\n    </tr>\n    <tr>\n      <th>2</th>\n      <td>140766</td>\n      <td>Effects of 3, 25, 100, 200 and 800 microM Mn o...</td>\n      <td>Influence of a high Mn supply on Norway spruce...</td>\n      <td>[]</td>\n    </tr>\n    <tr>\n      <th>4</th>\n      <td>52748</td>\n      <td>In order to recover without any apparent damag...</td>\n      <td>DNA damage in storage cells of anhydrobiotic t...</td>\n      <td>[78649]</td>\n    </tr>\n    <tr>\n      <th>6</th>\n      <td>65219</td>\n      <td>162 Background: Cabazitaxel (Cbz) is a novel t...</td>\n      <td>Phase I trial of cabazitaxel plus cisplatin in...</td>\n      <td>[]</td>\n    </tr>\n  </tbody>\n</table>\n</div>"
     },
     "metadata": {},
     "execution_count": 23
    }
   ],
   "source": [
    "foo.head()"
   ]
  },
  {
   "cell_type": "code",
   "execution_count": null,
   "metadata": {},
   "outputs": [],
   "source": []
  },
  {
   "cell_type": "code",
   "execution_count": null,
   "metadata": {},
   "outputs": [],
   "source": []
  }
 ],
 "metadata": {
  "language_info": {
   "codemirror_mode": {
    "name": "ipython",
    "version": 3
   },
   "file_extension": ".py",
   "mimetype": "text/x-python",
   "name": "python",
   "nbconvert_exporter": "python",
   "pygments_lexer": "ipython3",
   "version": 3
  },
  "orig_nbformat": 2,
  "kernelspec": {
   "name": "python_defaultSpec_1594919127766",
   "display_name": "Python 3.7.7 64-bit ('base': conda)"
  }
 },
 "nbformat": 4,
 "nbformat_minor": 2
}