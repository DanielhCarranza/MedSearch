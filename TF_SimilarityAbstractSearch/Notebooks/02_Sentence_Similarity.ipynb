{
 "cells": [
  {
   "cell_type": "markdown",
   "metadata": {},
   "source": [
    "# Sentence Similarity"
   ]
  },
  {
   "cell_type": "code",
   "execution_count": 1,
   "metadata": {
    "tags": []
   },
   "outputs": [
    {
     "output_type": "stream",
     "name": "stderr",
     "text": "\u001b[34m\u001b[1mwandb\u001b[0m: \u001b[33mWARNING\u001b[0m W&B installed but not logged in.  Run `wandb login` or set the WANDB_API_KEY env variable.\n"
    }
   ],
   "source": [
    "%load_ext autoreload\n",
    "%autoreload 2\n",
    "%reload_ext autoreload\n",
    "\n",
    "%matplotlib inline\n",
    "import matplotlib.pyplot as plt\n",
    "import numpy as np\n",
    "import pandas as pd\n",
    "from pathlib import Path\n",
    "\n",
    "import scipy.spatial as ss\n",
    "from sentence_transformers import SentenceTransformer\n",
    "\n",
    "from importlib.util import find_spec\n",
    "if find_spec(\"similarity_abstract_search\") is None:\n",
    "    import sys\n",
    "    sys.path.append('..')\n",
    "    \n",
    "from similarity_abstract_search.datasets.dataset import SemanticCorpusDataset\n",
    "from similarity_abstract_search.models.tfidf_model import TfidfModel  \n",
    "from similarity_abstract_search import utils"
   ]
  },
  {
   "cell_type": "code",
   "execution_count": 2,
   "metadata": {},
   "outputs": [
    {
     "output_type": "execute_result",
     "data": {
      "text/plain": "                                                   id  \\\nEmbeddingID                                             \n10291659     3b9b9509bb4eea4711515a40a7f210d8561487aa   \n13584557     c4c1d7a8051a5ee1562dc8b5722c3353b8d7e226   \n9811857      e300444162aa59fe05c18f99e36db8a1125275c3   \n764869       57c98b205d48d605f17d884bd6abe9a66c846989   \n10295489     e316c2902c421370001baf099e439cf68bef62fa   \n...                                               ...   \n2262933      640d8d35e96f819f7374c2171620782709ca96f8   \n7214837      e3eb267fbf508e3178ce0daf16941f812cb22e89   \n3194490      a56c28c136bdf97fc6fc6e7f79240714a29de52e   \n5667805      070f3faf32ac7fcca658235fce1ffb62628e8965   \n608501       3c3a1be2542c281b2298aff82b79d94eb248b98c   \n\n                                                 paperAbstract  \\\nEmbeddingID                                                      \n10291659     Anterior segment dysgeneses are developmental ...   \n13584557     The first synthesis of dolabelide C (1), a cyt...   \n9811857      BACKGROUND & AIMS: Helicobacter pylori eradica...   \n764869       BACKGROUND\\nMinorities are more prevalent than...   \n10295489     Today, many tetraplegics benefit from surgical...   \n...                                                        ...   \n2262933      Resonance frequency analysis (RFA) and Periote...   \n7214837      Acid ecto-phosphatase activity has been implic...   \n3194490      Reperfusion after global ischemia (10–60 min i...   \n5667805      AIM\\nTo evaluate the clinical and endoscopic p...   \n608501       [reaction: see text] A stereoselective total s...   \n\n                                                         title  \\\nEmbeddingID                                                      \n10291659     The 6p25 deletion syndrome: An update on a rar...   \n13584557     Total synthesis of dolabelide C: a phosphate-m...   \n9811857      Effects of Community Screening for Helicobacte...   \n764869       Racial and ethnic disparities in physical abus...   \n10295489     New concepts on treatment of the upper limb in...   \n...                                                        ...   \n2262933      The influence of fixation in formalin on the m...   \n7214837      The Leishmania donovani histidine acid ecto-ph...   \n3194490      Mitochondrial Hyperoxidation Signals Residual ...   \n5667805      Metastatic tumors to the stomach: clinical and...   \n608501       Total synthesis of (+)-benzastatin E via diast...   \n\n                                              citeEmbeddingsID  \nEmbeddingID                                                     \n10291659     [12279879, 11377917, 10611622, 4885766, 671395...  \n13584557                                             [5007102]  \n9811857      [9936039, 1851207, 446836, 11518128, 9864285, ...  \n764869                                       [6924879, 457180]  \n10295489      [7564871, 10920400, 13471692, 3174646, 10921211]  \n...                                                        ...  \n2262933                             [877477, 4908427, 3538244]  \n7214837      [12773399, 8025331, 2428553, 9379577, 6947986,...  \n3194490      [5510006, 813600, 3880848, 4169492, 10016922, ...  \n5667805      [11750558, 10263451, 6850277, 12377867, 395779...  \n608501                                                      []  \n\n[64 rows x 4 columns]",
      "text/html": "<div>\n<style scoped>\n    .dataframe tbody tr th:only-of-type {\n        vertical-align: middle;\n    }\n\n    .dataframe tbody tr th {\n        vertical-align: top;\n    }\n\n    .dataframe thead th {\n        text-align: right;\n    }\n</style>\n<table border=\"1\" class=\"dataframe\">\n  <thead>\n    <tr style=\"text-align: right;\">\n      <th></th>\n      <th>id</th>\n      <th>paperAbstract</th>\n      <th>title</th>\n      <th>citeEmbeddingsID</th>\n    </tr>\n    <tr>\n      <th>EmbeddingID</th>\n      <th></th>\n      <th></th>\n      <th></th>\n      <th></th>\n    </tr>\n  </thead>\n  <tbody>\n    <tr>\n      <th>10291659</th>\n      <td>3b9b9509bb4eea4711515a40a7f210d8561487aa</td>\n      <td>Anterior segment dysgeneses are developmental ...</td>\n      <td>The 6p25 deletion syndrome: An update on a rar...</td>\n      <td>[12279879, 11377917, 10611622, 4885766, 671395...</td>\n    </tr>\n    <tr>\n      <th>13584557</th>\n      <td>c4c1d7a8051a5ee1562dc8b5722c3353b8d7e226</td>\n      <td>The first synthesis of dolabelide C (1), a cyt...</td>\n      <td>Total synthesis of dolabelide C: a phosphate-m...</td>\n      <td>[5007102]</td>\n    </tr>\n    <tr>\n      <th>9811857</th>\n      <td>e300444162aa59fe05c18f99e36db8a1125275c3</td>\n      <td>BACKGROUND &amp; AIMS: Helicobacter pylori eradica...</td>\n      <td>Effects of Community Screening for Helicobacte...</td>\n      <td>[9936039, 1851207, 446836, 11518128, 9864285, ...</td>\n    </tr>\n    <tr>\n      <th>764869</th>\n      <td>57c98b205d48d605f17d884bd6abe9a66c846989</td>\n      <td>BACKGROUND\\nMinorities are more prevalent than...</td>\n      <td>Racial and ethnic disparities in physical abus...</td>\n      <td>[6924879, 457180]</td>\n    </tr>\n    <tr>\n      <th>10295489</th>\n      <td>e316c2902c421370001baf099e439cf68bef62fa</td>\n      <td>Today, many tetraplegics benefit from surgical...</td>\n      <td>New concepts on treatment of the upper limb in...</td>\n      <td>[7564871, 10920400, 13471692, 3174646, 10921211]</td>\n    </tr>\n    <tr>\n      <th>...</th>\n      <td>...</td>\n      <td>...</td>\n      <td>...</td>\n      <td>...</td>\n    </tr>\n    <tr>\n      <th>2262933</th>\n      <td>640d8d35e96f819f7374c2171620782709ca96f8</td>\n      <td>Resonance frequency analysis (RFA) and Periote...</td>\n      <td>The influence of fixation in formalin on the m...</td>\n      <td>[877477, 4908427, 3538244]</td>\n    </tr>\n    <tr>\n      <th>7214837</th>\n      <td>e3eb267fbf508e3178ce0daf16941f812cb22e89</td>\n      <td>Acid ecto-phosphatase activity has been implic...</td>\n      <td>The Leishmania donovani histidine acid ecto-ph...</td>\n      <td>[12773399, 8025331, 2428553, 9379577, 6947986,...</td>\n    </tr>\n    <tr>\n      <th>3194490</th>\n      <td>a56c28c136bdf97fc6fc6e7f79240714a29de52e</td>\n      <td>Reperfusion after global ischemia (10–60 min i...</td>\n      <td>Mitochondrial Hyperoxidation Signals Residual ...</td>\n      <td>[5510006, 813600, 3880848, 4169492, 10016922, ...</td>\n    </tr>\n    <tr>\n      <th>5667805</th>\n      <td>070f3faf32ac7fcca658235fce1ffb62628e8965</td>\n      <td>AIM\\nTo evaluate the clinical and endoscopic p...</td>\n      <td>Metastatic tumors to the stomach: clinical and...</td>\n      <td>[11750558, 10263451, 6850277, 12377867, 395779...</td>\n    </tr>\n    <tr>\n      <th>608501</th>\n      <td>3c3a1be2542c281b2298aff82b79d94eb248b98c</td>\n      <td>[reaction: see text] A stereoselective total s...</td>\n      <td>Total synthesis of (+)-benzastatin E via diast...</td>\n      <td>[]</td>\n    </tr>\n  </tbody>\n</table>\n<p>64 rows × 4 columns</p>\n</div>"
     },
     "metadata": {},
     "execution_count": 2
    }
   ],
   "source": [
    "data = SemanticCorpusDataset()\n",
    "data.load_one_batch()"
   ]
  },
  {
   "cell_type": "code",
   "execution_count": 29,
   "metadata": {
    "tags": []
   },
   "outputs": [],
   "source": [
    "df = data[0]"
   ]
  },
  {
   "cell_type": "markdown",
   "metadata": {},
   "source": [
    "## Semantic Search"
   ]
  },
  {
   "cell_type": "code",
   "execution_count": 2,
   "metadata": {
    "tags": []
   },
   "outputs": [
    {
     "output_type": "stream",
     "name": "stderr",
     "text": "100%|██████████| 405M/405M [00:37<00:00, 10.8MB/s]\n"
    }
   ],
   "source": [
    "embedder = SentenceTransformer('bert-base-nli-mean-tokens')"
   ]
  },
  {
   "cell_type": "code",
   "execution_count": 3,
   "metadata": {},
   "outputs": [],
   "source": [
    "corpus = ['A man is eating food.',\n",
    "          'A man is eating a piece of bread.',\n",
    "          'The girl is carrying a baby.',\n",
    "          'A man is riding a horse.',\n",
    "          'A woman is playing violin.',\n",
    "          'Two men pushed carts through the woods.',\n",
    "          'A man is riding a white horse on an enclosed ground.',\n",
    "          'A monkey is playing drums.',\n",
    "          'A cheetah is running behind its prey.'\n",
    "          ]"
   ]
  },
  {
   "cell_type": "code",
   "execution_count": 4,
   "metadata": {},
   "outputs": [],
   "source": [
    "corpus_embeddings = embedder.encode(corpus)"
   ]
  },
  {
   "cell_type": "code",
   "execution_count": 5,
   "metadata": {},
   "outputs": [],
   "source": [
    "queries = ['A man is eating pasta.', \n",
    "    'Someone in a gorilla costume is playing a set of drums.', \n",
    "    'A cheetah chases prey on across a field.']\n",
    "query_embeddings = embedder.encode(queries)"
   ]
  },
  {
   "cell_type": "code",
   "execution_count": 7,
   "metadata": {
    "tags": []
   },
   "outputs": [
    {
     "output_type": "stream",
     "name": "stdout",
     "text": "\n\n======================\n\n\nQuery: A man is eating pasta.\n\nTop 5 most similar sentences in corpus:\nA man is eating a piece of bread. (Score: 0.8480)\nA man is eating food. (Score: 0.7759)\nTwo men pushed carts through the woods. (Score: 0.2095)\nA monkey is playing drums. (Score: 0.1945)\nA man is riding a white horse on an enclosed ground. (Score: 0.1586)\n\n\n======================\n\n\nQuery: Someone in a gorilla costume is playing a set of drums.\n\nTop 5 most similar sentences in corpus:\nA monkey is playing drums. (Score: 0.7985)\nA cheetah is running behind its prey. (Score: 0.2860)\nThe girl is carrying a baby. (Score: 0.2351)\nA man is riding a horse. (Score: 0.2023)\nA man is riding a white horse on an enclosed ground. (Score: 0.1963)\n\n\n======================\n\n\nQuery: A cheetah chases prey on across a field.\n\nTop 5 most similar sentences in corpus:\nA cheetah is running behind its prey. (Score: 0.9007)\nTwo men pushed carts through the woods. (Score: 0.3662)\nA monkey is playing drums. (Score: 0.3061)\nA man is riding a horse. (Score: 0.2930)\nA man is riding a white horse on an enclosed ground. (Score: 0.2718)\n"
    }
   ],
   "source": [
    "closest_n = 5\n",
    "for query, query_embedding in zip(queries, query_embeddings):\n",
    "    distances = ss.distance.cdist([query_embedding], corpus_embeddings, \"cosine\")[0]\n",
    "\n",
    "    results = zip(range(len(distances)), distances)\n",
    "    results = sorted(results, key=lambda x: x[1])\n",
    "\n",
    "    print(\"\\n\\n======================\\n\\n\")\n",
    "    print(\"Query:\", query)\n",
    "    print(\"\\nTop 5 most similar sentences in corpus:\")\n",
    "\n",
    "    for idx, distance in results[0:closest_n]:\n",
    "        print(corpus[idx].strip(), \"(Score: %.4f)\" % (1-distance))"
   ]
  },
  {
   "cell_type": "markdown",
   "metadata": {},
   "source": [
    "# TD-IDF"
   ]
  },
  {
   "cell_type": "code",
   "execution_count": 30,
   "metadata": {},
   "outputs": [],
   "source": [
    "corpus = [f'{t} . {a} ' for t, a in zip(df.title, df.paperAbstract)]"
   ]
  },
  {
   "cell_type": "code",
   "execution_count": 31,
   "metadata": {},
   "outputs": [],
   "source": [
    "model = TfidfModel()"
   ]
  },
  {
   "cell_type": "code",
   "execution_count": 32,
   "metadata": {
    "tags": []
   },
   "outputs": [
    {
     "output_type": "stream",
     "name": "stdout",
     "text": "CPU times: user 22.1 ms, sys: 511 µs, total: 22.6 ms\nWall time: 22 ms\n"
    },
    {
     "output_type": "execute_result",
     "data": {
      "text/plain": "(64, 417)"
     },
     "metadata": {},
     "execution_count": 32
    }
   ],
   "source": [
    "%%time\n",
    "X, V = model.fit(corpus)\n",
    "X.shape"
   ]
  },
  {
   "cell_type": "code",
   "execution_count": 33,
   "metadata": {
    "tags": []
   },
   "outputs": [
    {
     "output_type": "stream",
     "name": "stderr",
     "text": "100%|██████████| 64/64 [00:00<00:00, 528.33it/s]\n"
    }
   ],
   "source": [
    "IX=model.svmSimilarity(X)"
   ]
  },
  {
   "cell_type": "code",
   "execution_count": null,
   "metadata": {},
   "outputs": [],
   "source": []
  },
  {
   "cell_type": "code",
   "execution_count": null,
   "metadata": {},
   "outputs": [],
   "source": []
  },
  {
   "cell_type": "code",
   "execution_count": null,
   "metadata": {},
   "outputs": [],
   "source": []
  },
  {
   "cell_type": "code",
   "execution_count": null,
   "metadata": {},
   "outputs": [],
   "source": []
  }
 ],
 "metadata": {
  "language_info": {
   "codemirror_mode": {
    "name": "ipython",
    "version": 3
   },
   "file_extension": ".py",
   "mimetype": "text/x-python",
   "name": "python",
   "nbconvert_exporter": "python",
   "pygments_lexer": "ipython3",
   "version": 3
  },
  "orig_nbformat": 2,
  "kernelspec": {
   "name": "python_defaultSpec_1595191430336",
   "display_name": "Python 3.7.7 64-bit ('base': conda)"
  }
 },
 "nbformat": 4,
 "nbformat_minor": 2
}