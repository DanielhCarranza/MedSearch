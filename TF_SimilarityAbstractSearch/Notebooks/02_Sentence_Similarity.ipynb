{
 "cells": [
  {
   "cell_type": "markdown",
   "metadata": {},
   "source": [
    "# Sentence Similarity"
   ]
  },
  {
   "cell_type": "code",
   "execution_count": 1,
   "metadata": {
    "tags": []
   },
   "outputs": [
    {
     "output_type": "stream",
     "name": "stderr",
     "text": "\u001b[34m\u001b[1mwandb\u001b[0m: \u001b[33mWARNING\u001b[0m W&B installed but not logged in.  Run `wandb login` or set the WANDB_API_KEY env variable.\n"
    }
   ],
   "source": [
    "%load_ext autoreload\n",
    "%autoreload 2\n",
    "%reload_ext autoreload\n",
    "\n",
    "%matplotlib inline\n",
    "import matplotlib.pyplot as plt\n",
    "import numpy as np\n",
    "import pandas as pd\n",
    "from pathlib import Path\n",
    "\n",
    "import scipy.spatial as ss\n",
    "from sentence_transformers import SentenceTransformer\n",
    "\n",
    "from importlib.util import find_spec\n",
    "if find_spec(\"similarity_abstract_search\") is None:\n",
    "    import sys\n",
    "    sys.path.append('..')\n",
    "    \n",
    "from similarity_abstract_search.datasets.dataset import SemanticCorpusDataset\n",
    "from similarity_abstract_search.models.tfidf_model import TfidfModel  \n",
    "from similarity_abstract_search import utils"
   ]
  },
  {
   "cell_type": "code",
   "execution_count": 41,
   "metadata": {},
   "outputs": [
    {
     "output_type": "execute_result",
     "data": {
      "text/plain": "                                                   id  \\\nEmbeddingID                                             \n10291659     3b9b9509bb4eea4711515a40a7f210d8561487aa   \n13584557     c4c1d7a8051a5ee1562dc8b5722c3353b8d7e226   \n9811857      e300444162aa59fe05c18f99e36db8a1125275c3   \n764869       57c98b205d48d605f17d884bd6abe9a66c846989   \n10295489     e316c2902c421370001baf099e439cf68bef62fa   \n...                                               ...   \n10982771     85b472872422a7aa871c5bb2c07ebbf42c204c30   \n8097853      11079171db9679d3dbcd5959fea7bb321a1bfe58   \n1837898      9e7b5d40efc6c2762ae45fa294e3efc150a02d9d   \n4281586      2dba9b6e4bfa3609d36fda76e780ea47f9779c3d   \n3975599      7e3948932322d4369aa65731ee45524f67ebacc0   \n\n                                                 paperAbstract  \\\nEmbeddingID                                                      \n10291659     Anterior segment dysgeneses are developmental ...   \n13584557     The first synthesis of dolabelide C (1), a cyt...   \n9811857      BACKGROUND & AIMS: Helicobacter pylori eradica...   \n764869       BACKGROUND\\nMinorities are more prevalent than...   \n10295489     Today, many tetraplegics benefit from surgical...   \n...                                                        ...   \n10982771     In the current study, laser scanning confocal ...   \n8097853      A newly isolated endo-β-1,4-xylanase (Xyn10E) ...   \n1837898      Nonobese diabetic (NOD) mice develop spontaneo...   \n4281586      Abstract This report describes the preparation...   \n3975599      Secreted phospholipase A2 group X (sPLA(2)-X) ...   \n\n                                                         title  \\\nEmbeddingID                                                      \n10291659     The 6p25 deletion syndrome: An update on a rar...   \n13584557     Total synthesis of dolabelide C: a phosphate-m...   \n9811857      Effects of Community Screening for Helicobacte...   \n764869       Racial and ethnic disparities in physical abus...   \n10295489     New concepts on treatment of the upper limb in...   \n...                                                        ...   \n10982771     Embryonic corneal epithelial actin alters dist...   \n8097853      The family 22 carbohydrate-binding module of b...   \n1837898      Deviation of pancreas-infiltrating cells to Th...   \n4281586      Fluorometric assay of neuraminidase with a sod...   \n3975599      Macrophage secretory phospholipase A2 group X ...   \n\n                                              citeEmbeddingsID  \nEmbeddingID                                                     \n10291659     [12279879, 11377917, 10611622, 4885766, 671395...  \n13584557                                             [5007102]  \n9811857      [9936039, 1851207, 446836, 11518128, 9864285, ...  \n764869                                       [6924879, 457180]  \n10295489      [7564871, 10920400, 13471692, 3174646, 10921211]  \n...                                                        ...  \n10982771     [2037344, 1821756, 9279551, 4924471, 3857404, ...  \n8097853                                       [971168, 924179]  \n1837898      [9962269, 8742671, 1200954, 4260073, 10496015,...  \n4281586      [8936234, 10497471, 295886, 6024591, 1970914, ...  \n3975599      [2372589, 12252649, 1350981, 7417918, 7935764,...  \n\n[5000 rows x 4 columns]",
      "text/html": "<div>\n<style scoped>\n    .dataframe tbody tr th:only-of-type {\n        vertical-align: middle;\n    }\n\n    .dataframe tbody tr th {\n        vertical-align: top;\n    }\n\n    .dataframe thead th {\n        text-align: right;\n    }\n</style>\n<table border=\"1\" class=\"dataframe\">\n  <thead>\n    <tr style=\"text-align: right;\">\n      <th></th>\n      <th>id</th>\n      <th>paperAbstract</th>\n      <th>title</th>\n      <th>citeEmbeddingsID</th>\n    </tr>\n    <tr>\n      <th>EmbeddingID</th>\n      <th></th>\n      <th></th>\n      <th></th>\n      <th></th>\n    </tr>\n  </thead>\n  <tbody>\n    <tr>\n      <th>10291659</th>\n      <td>3b9b9509bb4eea4711515a40a7f210d8561487aa</td>\n      <td>Anterior segment dysgeneses are developmental ...</td>\n      <td>The 6p25 deletion syndrome: An update on a rar...</td>\n      <td>[12279879, 11377917, 10611622, 4885766, 671395...</td>\n    </tr>\n    <tr>\n      <th>13584557</th>\n      <td>c4c1d7a8051a5ee1562dc8b5722c3353b8d7e226</td>\n      <td>The first synthesis of dolabelide C (1), a cyt...</td>\n      <td>Total synthesis of dolabelide C: a phosphate-m...</td>\n      <td>[5007102]</td>\n    </tr>\n    <tr>\n      <th>9811857</th>\n      <td>e300444162aa59fe05c18f99e36db8a1125275c3</td>\n      <td>BACKGROUND &amp; AIMS: Helicobacter pylori eradica...</td>\n      <td>Effects of Community Screening for Helicobacte...</td>\n      <td>[9936039, 1851207, 446836, 11518128, 9864285, ...</td>\n    </tr>\n    <tr>\n      <th>764869</th>\n      <td>57c98b205d48d605f17d884bd6abe9a66c846989</td>\n      <td>BACKGROUND\\nMinorities are more prevalent than...</td>\n      <td>Racial and ethnic disparities in physical abus...</td>\n      <td>[6924879, 457180]</td>\n    </tr>\n    <tr>\n      <th>10295489</th>\n      <td>e316c2902c421370001baf099e439cf68bef62fa</td>\n      <td>Today, many tetraplegics benefit from surgical...</td>\n      <td>New concepts on treatment of the upper limb in...</td>\n      <td>[7564871, 10920400, 13471692, 3174646, 10921211]</td>\n    </tr>\n    <tr>\n      <th>...</th>\n      <td>...</td>\n      <td>...</td>\n      <td>...</td>\n      <td>...</td>\n    </tr>\n    <tr>\n      <th>10982771</th>\n      <td>85b472872422a7aa871c5bb2c07ebbf42c204c30</td>\n      <td>In the current study, laser scanning confocal ...</td>\n      <td>Embryonic corneal epithelial actin alters dist...</td>\n      <td>[2037344, 1821756, 9279551, 4924471, 3857404, ...</td>\n    </tr>\n    <tr>\n      <th>8097853</th>\n      <td>11079171db9679d3dbcd5959fea7bb321a1bfe58</td>\n      <td>A newly isolated endo-β-1,4-xylanase (Xyn10E) ...</td>\n      <td>The family 22 carbohydrate-binding module of b...</td>\n      <td>[971168, 924179]</td>\n    </tr>\n    <tr>\n      <th>1837898</th>\n      <td>9e7b5d40efc6c2762ae45fa294e3efc150a02d9d</td>\n      <td>Nonobese diabetic (NOD) mice develop spontaneo...</td>\n      <td>Deviation of pancreas-infiltrating cells to Th...</td>\n      <td>[9962269, 8742671, 1200954, 4260073, 10496015,...</td>\n    </tr>\n    <tr>\n      <th>4281586</th>\n      <td>2dba9b6e4bfa3609d36fda76e780ea47f9779c3d</td>\n      <td>Abstract This report describes the preparation...</td>\n      <td>Fluorometric assay of neuraminidase with a sod...</td>\n      <td>[8936234, 10497471, 295886, 6024591, 1970914, ...</td>\n    </tr>\n    <tr>\n      <th>3975599</th>\n      <td>7e3948932322d4369aa65731ee45524f67ebacc0</td>\n      <td>Secreted phospholipase A2 group X (sPLA(2)-X) ...</td>\n      <td>Macrophage secretory phospholipase A2 group X ...</td>\n      <td>[2372589, 12252649, 1350981, 7417918, 7935764,...</td>\n    </tr>\n  </tbody>\n</table>\n<p>5000 rows × 4 columns</p>\n</div>"
     },
     "metadata": {},
     "execution_count": 41
    }
   ],
   "source": [
    "data = SemanticCorpusDataset(5000)\n",
    "df = data.load_one_batch()\n",
    "df"
   ]
  },
  {
   "cell_type": "code",
   "execution_count": 3,
   "metadata": {
    "tags": []
   },
   "outputs": [],
   "source": []
  },
  {
   "cell_type": "code",
   "execution_count": 42,
   "metadata": {},
   "outputs": [],
   "source": [
    "df.reset_index().to_json(str(data.data_dirname().parent/'paper_data.json'), orient='records')\n",
    "# utils.load_json(str(data.data_dirname().parent/'paper_data.json'))"
   ]
  },
  {
   "cell_type": "markdown",
   "metadata": {},
   "source": [
    "## Semantic Search"
   ]
  },
  {
   "cell_type": "code",
   "execution_count": 2,
   "metadata": {
    "tags": []
   },
   "outputs": [
    {
     "output_type": "stream",
     "name": "stderr",
     "text": "100%|██████████| 405M/405M [00:37<00:00, 10.8MB/s]\n"
    }
   ],
   "source": [
    "embedder = SentenceTransformer('bert-base-nli-mean-tokens')"
   ]
  },
  {
   "cell_type": "code",
   "execution_count": 3,
   "metadata": {},
   "outputs": [],
   "source": [
    "corpus = ['A man is eating food.',\n",
    "          'A man is eating a piece of bread.',\n",
    "          'The girl is carrying a baby.',\n",
    "          'A man is riding a horse.',\n",
    "          'A woman is playing violin.',\n",
    "          'Two men pushed carts through the woods.',\n",
    "          'A man is riding a white horse on an enclosed ground.',\n",
    "          'A monkey is playing drums.',\n",
    "          'A cheetah is running behind its prey.'\n",
    "          ]"
   ]
  },
  {
   "cell_type": "code",
   "execution_count": 4,
   "metadata": {},
   "outputs": [],
   "source": [
    "corpus_embeddings = embedder.encode(corpus)"
   ]
  },
  {
   "cell_type": "code",
   "execution_count": 5,
   "metadata": {},
   "outputs": [],
   "source": [
    "queries = ['A man is eating pasta.', \n",
    "    'Someone in a gorilla costume is playing a set of drums.', \n",
    "    'A cheetah chases prey on across a field.']\n",
    "query_embeddings = embedder.encode(queries)"
   ]
  },
  {
   "cell_type": "code",
   "execution_count": 7,
   "metadata": {
    "tags": []
   },
   "outputs": [
    {
     "output_type": "stream",
     "name": "stdout",
     "text": "\n\n======================\n\n\nQuery: A man is eating pasta.\n\nTop 5 most similar sentences in corpus:\nA man is eating a piece of bread. (Score: 0.8480)\nA man is eating food. (Score: 0.7759)\nTwo men pushed carts through the woods. (Score: 0.2095)\nA monkey is playing drums. (Score: 0.1945)\nA man is riding a white horse on an enclosed ground. (Score: 0.1586)\n\n\n======================\n\n\nQuery: Someone in a gorilla costume is playing a set of drums.\n\nTop 5 most similar sentences in corpus:\nA monkey is playing drums. (Score: 0.7985)\nA cheetah is running behind its prey. (Score: 0.2860)\nThe girl is carrying a baby. (Score: 0.2351)\nA man is riding a horse. (Score: 0.2023)\nA man is riding a white horse on an enclosed ground. (Score: 0.1963)\n\n\n======================\n\n\nQuery: A cheetah chases prey on across a field.\n\nTop 5 most similar sentences in corpus:\nA cheetah is running behind its prey. (Score: 0.9007)\nTwo men pushed carts through the woods. (Score: 0.3662)\nA monkey is playing drums. (Score: 0.3061)\nA man is riding a horse. (Score: 0.2930)\nA man is riding a white horse on an enclosed ground. (Score: 0.2718)\n"
    }
   ],
   "source": [
    "closest_n = 5\n",
    "for query, query_embedding in zip(queries, query_embeddings):\n",
    "    distances = ss.distance.cdist([query_embedding], corpus_embeddings, \"cosine\")[0]\n",
    "\n",
    "    results = zip(range(len(distances)), distances)\n",
    "    results = sorted(results, key=lambda x: x[1])\n",
    "\n",
    "    print(\"\\n\\n======================\\n\\n\")\n",
    "    print(\"Query:\", query)\n",
    "    print(\"\\nTop 5 most similar sentences in corpus:\")\n",
    "\n",
    "    for idx, distance in results[0:closest_n]:\n",
    "        print(corpus[idx].strip(), \"(Score: %.4f)\" % (1-distance))"
   ]
  },
  {
   "cell_type": "markdown",
   "metadata": {},
   "source": [
    "# TD-IDF"
   ]
  },
  {
   "cell_type": "code",
   "execution_count": 30,
   "metadata": {},
   "outputs": [],
   "source": [
    "corpus = [f'{t} . {a} ' for t, a in zip(df.title, df.paperAbstract)]"
   ]
  },
  {
   "cell_type": "code",
   "execution_count": 31,
   "metadata": {},
   "outputs": [],
   "source": [
    "model = TfidfModel()"
   ]
  },
  {
   "cell_type": "code",
   "execution_count": 32,
   "metadata": {
    "tags": []
   },
   "outputs": [
    {
     "output_type": "stream",
     "name": "stdout",
     "text": "CPU times: user 22.1 ms, sys: 511 µs, total: 22.6 ms\nWall time: 22 ms\n"
    },
    {
     "output_type": "execute_result",
     "data": {
      "text/plain": "(64, 417)"
     },
     "metadata": {},
     "execution_count": 32
    }
   ],
   "source": [
    "%%time\n",
    "X, V = model.fit(corpus)\n",
    "X.shape"
   ]
  },
  {
   "cell_type": "code",
   "execution_count": 33,
   "metadata": {
    "tags": []
   },
   "outputs": [
    {
     "output_type": "stream",
     "name": "stderr",
     "text": "100%|██████████| 64/64 [00:00<00:00, 528.33it/s]\n"
    }
   ],
   "source": [
    "IX=model.svmSimilarity(X)"
   ]
  },
  {
   "cell_type": "markdown",
   "metadata": {},
   "source": [
    "## Search"
   ]
  },
  {
   "cell_type": "code",
   "execution_count": 43,
   "metadata": {},
   "outputs": [],
   "source": [
    "paper_dict  = utils.load_json(str(data.data_dirname().parent/'paper_data.json'))\n",
    "search_dict = utils.load_json(str(data.data_dirname().parent/'search.json'))\n",
    "sim_dict    = utils.load_json(str(data.data_dirname().parent/'sim_vecs.json'))\n"
   ]
  },
  {
   "cell_type": "code",
   "execution_count": 37,
   "metadata": {},
   "outputs": [
    {
     "output_type": "execute_result",
     "data": {
      "text/plain": "'Racial and ethnic disparities in physical abuse reporting and child protective services interventions in the United States.'"
     },
     "metadata": {},
     "execution_count": 37
    }
   ],
   "source": [
    "paper_dict[3]['title']"
   ]
  },
  {
   "cell_type": "code",
   "execution_count": 44,
   "metadata": {},
   "outputs": [],
   "source": [
    "\n",
    "qparts = ('breast cancer screening').strip().split() \n",
    "n = len(paper_dict)\n",
    "\n",
    "scores =[]\n",
    "for i, sd in enumerate(search_dict):\n",
    "    score = sum(sd.get(q, 0) for q in qparts)\n",
    "    if score ==0: continue\n",
    "    score += 1.0*(n-i)/n\n",
    "    scores.append((score, paper_dict[i]))\n",
    "scores.sort(reverse=True, key=lambda x: x[0])\n",
    "papers = [x[1] for x in scores if x[0]>0]\n",
    "if len(papers)>40:\n",
    "    papers = papers[:40]"
   ]
  },
  {
   "cell_type": "code",
   "execution_count": 46,
   "metadata": {},
   "outputs": [
    {
     "output_type": "execute_result",
     "data": {
      "text/plain": "{'EmbeddingID': 4986424,\n 'id': '3ae086a71aba70379989bc7804562517e29343ec',\n 'paperAbstract': 'Cancer screening programmes differ throughout the European Union with regard to their content as well as their acceptance by the population. In Germany, mammography is not yet part of the recommended screening programme, although its routine use is recommended by several national and international institutions. We were interested in the present methods of breast cancer detection and the correlation to tumour stage, histology and prognosis. Patients with breast cancer, presenting in our department between January 1990 and December 1994 (1,050 cases), were asked whether the suspicious finding was first detected by themselves, their physician, or in routine mammography. Seventy-two per cent of tumours were detected by patients themselves, 12% by the physician at routine cancer screening or for other reasons, and 16% were found in mammography performed without clinical suspicion of cancer. Tumours found by physicians or by mammography were treated much sooner than those first recognized by the patient and, thus, were of lower T and N stages. Surgery could more often be breast-conserving in these cases. Of the T2 stages, as far as can be determined after the short follow-up, patients with tumours detected by screening showed a better survival rate. In spite of the introduction of cancer screening programmes most breast carcinomas are still detected by patients themselves. Therapy is often started after a great delay, so that the tumours are found to be at more advanced stages and show a worse prognosis than those detected by clinical examination or mammography.',\n 'title': 'Mode of breast cancer detection: a study from the German part of the Maas-Rhine-EUREGIO.',\n 'citeEmbeddingsID': [9111531]}"
     },
     "metadata": {},
     "execution_count": 46
    }
   ],
   "source": [
    "papers[0]"
   ]
  },
  {
   "cell_type": "code",
   "execution_count": 53,
   "metadata": {},
   "outputs": [
    {
     "output_type": "execute_result",
     "data": {
      "text/plain": "'3b9b9509bb4eea4711515a40a7f210d8561487aa'"
     },
     "metadata": {},
     "execution_count": 53
    }
   ],
   "source": [
    "paper_dict[0]['id']"
   ]
  },
  {
   "cell_type": "code",
   "execution_count": 54,
   "metadata": {},
   "outputs": [
    {
     "output_type": "execute_result",
     "data": {
      "text/plain": "5000"
     },
     "metadata": {},
     "execution_count": 54
    }
   ],
   "source": [
    "len(sim_dict)"
   ]
  }
 ],
 "metadata": {
  "language_info": {
   "codemirror_mode": {
    "name": "ipython",
    "version": 3
   },
   "file_extension": ".py",
   "mimetype": "text/x-python",
   "name": "python",
   "nbconvert_exporter": "python",
   "pygments_lexer": "ipython3",
   "version": 3
  },
  "orig_nbformat": 2,
  "kernelspec": {
   "name": "python_defaultSpec_1595424579602",
   "display_name": "Python 3.7.7 64-bit ('base': conda)"
  }
 },
 "nbformat": 4,
 "nbformat_minor": 2
}